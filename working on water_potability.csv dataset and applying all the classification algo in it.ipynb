{
 "cells": [
  {
   "cell_type": "code",
   "execution_count": 1,
   "id": "398e3194",
   "metadata": {},
   "outputs": [],
   "source": [
    "#importing all the modules which is used in this given dataset\n",
    "import numpy as np\n",
    "import pandas as pd\n",
    "import seaborn as sb\n",
    "from matplotlib import pyplot as plt\n",
    "import sklearn\n",
    "import warnings as w\n",
    "w.filterwarnings('ignore')"
   ]
  },
  {
   "cell_type": "code",
   "execution_count": 2,
   "id": "9490441b",
   "metadata": {},
   "outputs": [
    {
     "data": {
      "text/html": [
       "<div>\n",
       "<style scoped>\n",
       "    .dataframe tbody tr th:only-of-type {\n",
       "        vertical-align: middle;\n",
       "    }\n",
       "\n",
       "    .dataframe tbody tr th {\n",
       "        vertical-align: top;\n",
       "    }\n",
       "\n",
       "    .dataframe thead th {\n",
       "        text-align: right;\n",
       "    }\n",
       "</style>\n",
       "<table border=\"1\" class=\"dataframe\">\n",
       "  <thead>\n",
       "    <tr style=\"text-align: right;\">\n",
       "      <th></th>\n",
       "      <th>ph</th>\n",
       "      <th>Hardness</th>\n",
       "      <th>Solids</th>\n",
       "      <th>Chloramines</th>\n",
       "      <th>Sulfate</th>\n",
       "      <th>Conductivity</th>\n",
       "      <th>Organic_carbon</th>\n",
       "      <th>Trihalomethanes</th>\n",
       "      <th>Turbidity</th>\n",
       "      <th>Potability</th>\n",
       "    </tr>\n",
       "  </thead>\n",
       "  <tbody>\n",
       "    <tr>\n",
       "      <th>0</th>\n",
       "      <td>NaN</td>\n",
       "      <td>204.890455</td>\n",
       "      <td>20791.318981</td>\n",
       "      <td>7.300212</td>\n",
       "      <td>368.516441</td>\n",
       "      <td>564.308654</td>\n",
       "      <td>10.379783</td>\n",
       "      <td>86.990970</td>\n",
       "      <td>2.963135</td>\n",
       "      <td>0</td>\n",
       "    </tr>\n",
       "    <tr>\n",
       "      <th>1</th>\n",
       "      <td>3.716080</td>\n",
       "      <td>129.422921</td>\n",
       "      <td>18630.057858</td>\n",
       "      <td>6.635246</td>\n",
       "      <td>NaN</td>\n",
       "      <td>592.885359</td>\n",
       "      <td>15.180013</td>\n",
       "      <td>56.329076</td>\n",
       "      <td>4.500656</td>\n",
       "      <td>0</td>\n",
       "    </tr>\n",
       "    <tr>\n",
       "      <th>2</th>\n",
       "      <td>8.099124</td>\n",
       "      <td>224.236259</td>\n",
       "      <td>19909.541732</td>\n",
       "      <td>9.275884</td>\n",
       "      <td>NaN</td>\n",
       "      <td>418.606213</td>\n",
       "      <td>16.868637</td>\n",
       "      <td>66.420093</td>\n",
       "      <td>3.055934</td>\n",
       "      <td>0</td>\n",
       "    </tr>\n",
       "    <tr>\n",
       "      <th>3</th>\n",
       "      <td>8.316766</td>\n",
       "      <td>214.373394</td>\n",
       "      <td>22018.417441</td>\n",
       "      <td>8.059332</td>\n",
       "      <td>356.886136</td>\n",
       "      <td>363.266516</td>\n",
       "      <td>18.436524</td>\n",
       "      <td>100.341674</td>\n",
       "      <td>4.628771</td>\n",
       "      <td>0</td>\n",
       "    </tr>\n",
       "    <tr>\n",
       "      <th>4</th>\n",
       "      <td>9.092223</td>\n",
       "      <td>181.101509</td>\n",
       "      <td>17978.986339</td>\n",
       "      <td>6.546600</td>\n",
       "      <td>310.135738</td>\n",
       "      <td>398.410813</td>\n",
       "      <td>11.558279</td>\n",
       "      <td>31.997993</td>\n",
       "      <td>4.075075</td>\n",
       "      <td>0</td>\n",
       "    </tr>\n",
       "  </tbody>\n",
       "</table>\n",
       "</div>"
      ],
      "text/plain": [
       "         ph    Hardness        Solids  Chloramines     Sulfate  Conductivity  \\\n",
       "0       NaN  204.890455  20791.318981     7.300212  368.516441    564.308654   \n",
       "1  3.716080  129.422921  18630.057858     6.635246         NaN    592.885359   \n",
       "2  8.099124  224.236259  19909.541732     9.275884         NaN    418.606213   \n",
       "3  8.316766  214.373394  22018.417441     8.059332  356.886136    363.266516   \n",
       "4  9.092223  181.101509  17978.986339     6.546600  310.135738    398.410813   \n",
       "\n",
       "   Organic_carbon  Trihalomethanes  Turbidity  Potability  \n",
       "0       10.379783        86.990970   2.963135           0  \n",
       "1       15.180013        56.329076   4.500656           0  \n",
       "2       16.868637        66.420093   3.055934           0  \n",
       "3       18.436524       100.341674   4.628771           0  \n",
       "4       11.558279        31.997993   4.075075           0  "
      ]
     },
     "execution_count": 2,
     "metadata": {},
     "output_type": "execute_result"
    }
   ],
   "source": [
    "#now loading the dataset by using read_csv() built in functin of pandas library\n",
    "df=pd.read_csv(r'C:\\Users\\shaik\\Desktop/water_potability.csv')\n",
    "df.head()"
   ]
  },
  {
   "cell_type": "markdown",
   "id": "18bb6ccf",
   "metadata": {},
   "source": [
    "# now doing eda work and cleaning given dataset"
   ]
  },
  {
   "cell_type": "code",
   "execution_count": 3,
   "id": "116b07fb",
   "metadata": {},
   "outputs": [
    {
     "data": {
      "text/plain": [
       "(3276, 10)"
      ]
     },
     "execution_count": 3,
     "metadata": {},
     "output_type": "execute_result"
    }
   ],
   "source": [
    "#checking how amny records and column present in this given dataset\n",
    "df.shape"
   ]
  },
  {
   "cell_type": "code",
   "execution_count": 4,
   "id": "d2032b50",
   "metadata": {},
   "outputs": [
    {
     "data": {
      "image/png": "[encoded data removed]",
      "text/plain": [
       "<Figure size 432x288 with 2 Axes>"
      ]
     },
     "metadata": {
      "needs_background": "light"
     },
     "output_type": "display_data"
    }
   ],
   "source": [
    "#checking for null value...and visualizing the null value present or not in given dataset\n",
    "sb.heatmap(df.isnull())\n",
    "plt.show()\n",
    "#below result we can conclude that ph of water column,turbidity and trihalomethanes showing null value"
   ]
  },
  {
   "cell_type": "code",
   "execution_count": 5,
   "id": "9d951be2",
   "metadata": {},
   "outputs": [
    {
     "data": {
      "text/plain": [
       "ph                 491\n",
       "Hardness             0\n",
       "Solids               0\n",
       "Chloramines          0\n",
       "Sulfate            781\n",
       "Conductivity         0\n",
       "Organic_carbon       0\n",
       "Trihalomethanes    162\n",
       "Turbidity            0\n",
       "Potability           0\n",
       "dtype: int64"
      ]
     },
     "execution_count": 5,
     "metadata": {},
     "output_type": "execute_result"
    }
   ],
   "source": [
    "#without visualisation we can also identify the null value\n",
    "df.isnull().sum()"
   ]
  },
  {
   "cell_type": "code",
   "execution_count": 6,
   "id": "e143f87c",
   "metadata": {},
   "outputs": [
    {
     "data": {
      "text/plain": [
       "ph                 14.987790\n",
       "Hardness            0.000000\n",
       "Solids              0.000000\n",
       "Chloramines         0.000000\n",
       "Sulfate            23.840049\n",
       "Conductivity        0.000000\n",
       "Organic_carbon      0.000000\n",
       "Trihalomethanes     4.945055\n",
       "Turbidity           0.000000\n",
       "Potability          0.000000\n",
       "dtype: float64"
      ]
     },
     "execution_count": 6,
     "metadata": {},
     "output_type": "execute_result"
    }
   ],
   "source": [
    "#checking the % of null value\n",
    "df.isnull().sum()/df.shape[0]*100"
   ]
  },
  {
   "cell_type": "code",
   "execution_count": 7,
   "id": "81eae962",
   "metadata": {},
   "outputs": [
    {
     "data": {
      "text/plain": [
       "7.080794504276819"
      ]
     },
     "execution_count": 7,
     "metadata": {},
     "output_type": "execute_result"
    }
   ],
   "source": [
    "#now filling the null by mean median mode according to the datatype of column\n",
    "mean=df['ph'].mean()\n",
    "mean"
   ]
  },
  {
   "cell_type": "code",
   "execution_count": 8,
   "id": "7da9007e",
   "metadata": {},
   "outputs": [],
   "source": [
    "#now filling the ph column with mean permanently\n",
    "df['ph'].fillna(mean,axis=0,inplace=True)"
   ]
  },
  {
   "cell_type": "code",
   "execution_count": 9,
   "id": "9f1901a8",
   "metadata": {},
   "outputs": [
    {
     "data": {
      "text/plain": [
       "333.7757766108134"
      ]
     },
     "execution_count": 9,
     "metadata": {},
     "output_type": "execute_result"
    }
   ],
   "source": [
    "#now checking the mean of sulphate column\n",
    "mean2=df['Sulfate'].mean()\n",
    "mean2"
   ]
  },
  {
   "cell_type": "code",
   "execution_count": 10,
   "id": "6d6860c5",
   "metadata": {},
   "outputs": [],
   "source": [
    "#now filling the sulphate column with mean permanently\n",
    "df['Sulfate'].fillna(mean2,axis=0,inplace=True)"
   ]
  },
  {
   "cell_type": "code",
   "execution_count": 11,
   "id": "3302a813",
   "metadata": {},
   "outputs": [
    {
     "data": {
      "text/plain": [
       "66.39629294676803"
      ]
     },
     "execution_count": 11,
     "metadata": {},
     "output_type": "execute_result"
    }
   ],
   "source": [
    "#checking the mean of Trihalomethanes column\n",
    "mean3=df['Trihalomethanes'].mean()\n",
    "mean3"
   ]
  },
  {
   "cell_type": "code",
   "execution_count": 12,
   "id": "3af547fd",
   "metadata": {},
   "outputs": [],
   "source": [
    "#now filling the sulphate column with mean permanently\n",
    "df['Trihalomethanes'].fillna(mean3,axis=0,inplace=True)"
   ]
  },
  {
   "cell_type": "code",
   "execution_count": 13,
   "id": "61646274",
   "metadata": {},
   "outputs": [
    {
     "data": {
      "text/html": [
       "<div>\n",
       "<style scoped>\n",
       "    .dataframe tbody tr th:only-of-type {\n",
       "        vertical-align: middle;\n",
       "    }\n",
       "\n",
       "    .dataframe tbody tr th {\n",
       "        vertical-align: top;\n",
       "    }\n",
       "\n",
       "    .dataframe thead th {\n",
       "        text-align: right;\n",
       "    }\n",
       "</style>\n",
       "<table border=\"1\" class=\"dataframe\">\n",
       "  <thead>\n",
       "    <tr style=\"text-align: right;\">\n",
       "      <th></th>\n",
       "      <th>ph</th>\n",
       "      <th>Hardness</th>\n",
       "      <th>Solids</th>\n",
       "      <th>Chloramines</th>\n",
       "      <th>Sulfate</th>\n",
       "      <th>Conductivity</th>\n",
       "      <th>Organic_carbon</th>\n",
       "      <th>Trihalomethanes</th>\n",
       "      <th>Turbidity</th>\n",
       "      <th>Potability</th>\n",
       "    </tr>\n",
       "  </thead>\n",
       "  <tbody>\n",
       "    <tr>\n",
       "      <th>count</th>\n",
       "      <td>3276.000000</td>\n",
       "      <td>3276.000000</td>\n",
       "      <td>3276.000000</td>\n",
       "      <td>3276.000000</td>\n",
       "      <td>3276.000000</td>\n",
       "      <td>3276.000000</td>\n",
       "      <td>3276.000000</td>\n",
       "      <td>3276.000000</td>\n",
       "      <td>3276.000000</td>\n",
       "      <td>3276.000000</td>\n",
       "    </tr>\n",
       "    <tr>\n",
       "      <th>mean</th>\n",
       "      <td>7.080795</td>\n",
       "      <td>196.369496</td>\n",
       "      <td>22014.092526</td>\n",
       "      <td>7.122277</td>\n",
       "      <td>333.775777</td>\n",
       "      <td>426.205111</td>\n",
       "      <td>14.284970</td>\n",
       "      <td>66.396293</td>\n",
       "      <td>3.966786</td>\n",
       "      <td>0.390110</td>\n",
       "    </tr>\n",
       "    <tr>\n",
       "      <th>std</th>\n",
       "      <td>1.469956</td>\n",
       "      <td>32.879761</td>\n",
       "      <td>8768.570828</td>\n",
       "      <td>1.583085</td>\n",
       "      <td>36.142612</td>\n",
       "      <td>80.824064</td>\n",
       "      <td>3.308162</td>\n",
       "      <td>15.769881</td>\n",
       "      <td>0.780382</td>\n",
       "      <td>0.487849</td>\n",
       "    </tr>\n",
       "    <tr>\n",
       "      <th>min</th>\n",
       "      <td>0.000000</td>\n",
       "      <td>47.432000</td>\n",
       "      <td>320.942611</td>\n",
       "      <td>0.352000</td>\n",
       "      <td>129.000000</td>\n",
       "      <td>181.483754</td>\n",
       "      <td>2.200000</td>\n",
       "      <td>0.738000</td>\n",
       "      <td>1.450000</td>\n",
       "      <td>0.000000</td>\n",
       "    </tr>\n",
       "    <tr>\n",
       "      <th>25%</th>\n",
       "      <td>6.277673</td>\n",
       "      <td>176.850538</td>\n",
       "      <td>15666.690297</td>\n",
       "      <td>6.127421</td>\n",
       "      <td>317.094638</td>\n",
       "      <td>365.734414</td>\n",
       "      <td>12.065801</td>\n",
       "      <td>56.647656</td>\n",
       "      <td>3.439711</td>\n",
       "      <td>0.000000</td>\n",
       "    </tr>\n",
       "    <tr>\n",
       "      <th>50%</th>\n",
       "      <td>7.080795</td>\n",
       "      <td>196.967627</td>\n",
       "      <td>20927.833607</td>\n",
       "      <td>7.130299</td>\n",
       "      <td>333.775777</td>\n",
       "      <td>421.884968</td>\n",
       "      <td>14.218338</td>\n",
       "      <td>66.396293</td>\n",
       "      <td>3.955028</td>\n",
       "      <td>0.000000</td>\n",
       "    </tr>\n",
       "    <tr>\n",
       "      <th>75%</th>\n",
       "      <td>7.870050</td>\n",
       "      <td>216.667456</td>\n",
       "      <td>27332.762127</td>\n",
       "      <td>8.114887</td>\n",
       "      <td>350.385756</td>\n",
       "      <td>481.792304</td>\n",
       "      <td>16.557652</td>\n",
       "      <td>76.666609</td>\n",
       "      <td>4.500320</td>\n",
       "      <td>1.000000</td>\n",
       "    </tr>\n",
       "    <tr>\n",
       "      <th>max</th>\n",
       "      <td>14.000000</td>\n",
       "      <td>323.124000</td>\n",
       "      <td>61227.196008</td>\n",
       "      <td>13.127000</td>\n",
       "      <td>481.030642</td>\n",
       "      <td>753.342620</td>\n",
       "      <td>28.300000</td>\n",
       "      <td>124.000000</td>\n",
       "      <td>6.739000</td>\n",
       "      <td>1.000000</td>\n",
       "    </tr>\n",
       "  </tbody>\n",
       "</table>\n",
       "</div>"
      ],
      "text/plain": [
       "                ph     Hardness        Solids  Chloramines      Sulfate  \\\n",
       "count  3276.000000  3276.000000   3276.000000  3276.000000  3276.000000   \n",
       "mean      7.080795   196.369496  22014.092526     7.122277   333.775777   \n",
       "std       1.469956    32.879761   8768.570828     1.583085    36.142612   \n",
       "min       0.000000    47.432000    320.942611     0.352000   129.000000   \n",
       "25%       6.277673   176.850538  15666.690297     6.127421   317.094638   \n",
       "50%       7.080795   196.967627  20927.833607     7.130299   333.775777   \n",
       "75%       7.870050   216.667456  27332.762127     8.114887   350.385756   \n",
       "max      14.000000   323.124000  61227.196008    13.127000   481.030642   \n",
       "\n",
       "       Conductivity  Organic_carbon  Trihalomethanes    Turbidity   Potability  \n",
       "count   3276.000000     3276.000000      3276.000000  3276.000000  3276.000000  \n",
       "mean     426.205111       14.284970        66.396293     3.966786     0.390110  \n",
       "std       80.824064        3.308162        15.769881     0.780382     0.487849  \n",
       "min      181.483754        2.200000         0.738000     1.450000     0.000000  \n",
       "25%      365.734414       12.065801        56.647656     3.439711     0.000000  \n",
       "50%      421.884968       14.218338        66.396293     3.955028     0.000000  \n",
       "75%      481.792304       16.557652        76.666609     4.500320     1.000000  \n",
       "max      753.342620       28.300000       124.000000     6.739000     1.000000  "
      ]
     },
     "execution_count": 13,
     "metadata": {},
     "output_type": "execute_result"
    }
   ],
   "source": [
    "#checking the statistical summary of given dataset\n",
    "df.describe()"
   ]
  },
  {
   "cell_type": "code",
   "execution_count": 14,
   "id": "b931a0cd",
   "metadata": {},
   "outputs": [
    {
     "data": {
      "image/png": "[encoded data removed]",
      "text/plain": [
       "<Figure size 432x288 with 2 Axes>"
      ]
     },
     "metadata": {
      "needs_background": "light"
     },
     "output_type": "display_data"
    }
   ],
   "source": [
    "#again visualizing the null value\n",
    "sb.heatmap(df.isnull())\n",
    "plt.show()\n",
    "#pink color indicate no null value present in it"
   ]
  },
  {
   "cell_type": "code",
   "execution_count": 15,
   "id": "450103d4",
   "metadata": {},
   "outputs": [
    {
     "data": {
      "text/plain": [
       "ph                 float64\n",
       "Hardness           float64\n",
       "Solids             float64\n",
       "Chloramines        float64\n",
       "Sulfate            float64\n",
       "Conductivity       float64\n",
       "Organic_carbon     float64\n",
       "Trihalomethanes    float64\n",
       "Turbidity          float64\n",
       "Potability           int64\n",
       "dtype: object"
      ]
     },
     "execution_count": 15,
     "metadata": {},
     "output_type": "execute_result"
    }
   ],
   "source": [
    "#cross checking the null value by finding\n",
    "#the dtype of each column and comparing those column record dtype se\n",
    "df.dtypes"
   ]
  },
  {
   "cell_type": "code",
   "execution_count": 16,
   "id": "45dec119",
   "metadata": {},
   "outputs": [
    {
     "data": {
      "text/html": [
       "<div>\n",
       "<style scoped>\n",
       "    .dataframe tbody tr th:only-of-type {\n",
       "        vertical-align: middle;\n",
       "    }\n",
       "\n",
       "    .dataframe tbody tr th {\n",
       "        vertical-align: top;\n",
       "    }\n",
       "\n",
       "    .dataframe thead th {\n",
       "        text-align: right;\n",
       "    }\n",
       "</style>\n",
       "<table border=\"1\" class=\"dataframe\">\n",
       "  <thead>\n",
       "    <tr style=\"text-align: right;\">\n",
       "      <th></th>\n",
       "      <th>ph</th>\n",
       "      <th>Hardness</th>\n",
       "      <th>Solids</th>\n",
       "      <th>Chloramines</th>\n",
       "      <th>Sulfate</th>\n",
       "      <th>Conductivity</th>\n",
       "      <th>Organic_carbon</th>\n",
       "      <th>Trihalomethanes</th>\n",
       "      <th>Turbidity</th>\n",
       "      <th>Potability</th>\n",
       "    </tr>\n",
       "  </thead>\n",
       "  <tbody>\n",
       "    <tr>\n",
       "      <th>0</th>\n",
       "      <td>7.080795</td>\n",
       "      <td>204.890455</td>\n",
       "      <td>20791.318981</td>\n",
       "      <td>7.300212</td>\n",
       "      <td>368.516441</td>\n",
       "      <td>564.308654</td>\n",
       "      <td>10.379783</td>\n",
       "      <td>86.990970</td>\n",
       "      <td>2.963135</td>\n",
       "      <td>0</td>\n",
       "    </tr>\n",
       "    <tr>\n",
       "      <th>1</th>\n",
       "      <td>3.716080</td>\n",
       "      <td>129.422921</td>\n",
       "      <td>18630.057858</td>\n",
       "      <td>6.635246</td>\n",
       "      <td>333.775777</td>\n",
       "      <td>592.885359</td>\n",
       "      <td>15.180013</td>\n",
       "      <td>56.329076</td>\n",
       "      <td>4.500656</td>\n",
       "      <td>0</td>\n",
       "    </tr>\n",
       "    <tr>\n",
       "      <th>2</th>\n",
       "      <td>8.099124</td>\n",
       "      <td>224.236259</td>\n",
       "      <td>19909.541732</td>\n",
       "      <td>9.275884</td>\n",
       "      <td>333.775777</td>\n",
       "      <td>418.606213</td>\n",
       "      <td>16.868637</td>\n",
       "      <td>66.420093</td>\n",
       "      <td>3.055934</td>\n",
       "      <td>0</td>\n",
       "    </tr>\n",
       "    <tr>\n",
       "      <th>3</th>\n",
       "      <td>8.316766</td>\n",
       "      <td>214.373394</td>\n",
       "      <td>22018.417441</td>\n",
       "      <td>8.059332</td>\n",
       "      <td>356.886136</td>\n",
       "      <td>363.266516</td>\n",
       "      <td>18.436524</td>\n",
       "      <td>100.341674</td>\n",
       "      <td>4.628771</td>\n",
       "      <td>0</td>\n",
       "    </tr>\n",
       "    <tr>\n",
       "      <th>4</th>\n",
       "      <td>9.092223</td>\n",
       "      <td>181.101509</td>\n",
       "      <td>17978.986339</td>\n",
       "      <td>6.546600</td>\n",
       "      <td>310.135738</td>\n",
       "      <td>398.410813</td>\n",
       "      <td>11.558279</td>\n",
       "      <td>31.997993</td>\n",
       "      <td>4.075075</td>\n",
       "      <td>0</td>\n",
       "    </tr>\n",
       "  </tbody>\n",
       "</table>\n",
       "</div>"
      ],
      "text/plain": [
       "         ph    Hardness        Solids  Chloramines     Sulfate  Conductivity  \\\n",
       "0  7.080795  204.890455  20791.318981     7.300212  368.516441    564.308654   \n",
       "1  3.716080  129.422921  18630.057858     6.635246  333.775777    592.885359   \n",
       "2  8.099124  224.236259  19909.541732     9.275884  333.775777    418.606213   \n",
       "3  8.316766  214.373394  22018.417441     8.059332  356.886136    363.266516   \n",
       "4  9.092223  181.101509  17978.986339     6.546600  310.135738    398.410813   \n",
       "\n",
       "   Organic_carbon  Trihalomethanes  Turbidity  Potability  \n",
       "0       10.379783        86.990970   2.963135           0  \n",
       "1       15.180013        56.329076   4.500656           0  \n",
       "2       16.868637        66.420093   3.055934           0  \n",
       "3       18.436524       100.341674   4.628771           0  \n",
       "4       11.558279        31.997993   4.075075           0  "
      ]
     },
     "execution_count": 16,
     "metadata": {},
     "output_type": "execute_result"
    }
   ],
   "source": [
    "df.head()"
   ]
  },
  {
   "cell_type": "code",
   "execution_count": 17,
   "id": "0f8846d3",
   "metadata": {},
   "outputs": [
    {
     "data": {
      "text/plain": [
       "array([0, 1], dtype=int64)"
      ]
     },
     "execution_count": 17,
     "metadata": {},
     "output_type": "execute_result"
    }
   ],
   "source": [
    "#here in this given dataset potability is the target variable \n",
    "#in output variable now we r checking how many unique value present in it\n",
    "df['Potability'].unique()\n",
    "\n",
    "#below result we can conclude that output variable are binary class classifier"
   ]
  },
  {
   "cell_type": "code",
   "execution_count": 18,
   "id": "03d6721a",
   "metadata": {},
   "outputs": [
    {
     "data": {
      "text/plain": [
       "0    1998\n",
       "1    1278\n",
       "Name: Potability, dtype: int64"
      ]
     },
     "execution_count": 18,
     "metadata": {},
     "output_type": "execute_result"
    }
   ],
   "source": [
    "#now checking that output variable are balanced or not\n",
    "df['Potability'].value_counts()\n",
    "#below result we can conclude that output variable is balanced in records "
   ]
  },
  {
   "cell_type": "code",
   "execution_count": 19,
   "id": "8e28c0ed",
   "metadata": {},
   "outputs": [
    {
     "data": {
      "image/png": "[encoded data removed]",
      "text/plain": [
       "<Figure size 432x288 with 1 Axes>"
      ]
     },
     "metadata": {
      "needs_background": "light"
     },
     "output_type": "display_data"
    }
   ],
   "source": [
    "#now visualizing the output variable \n",
    "plt.title('countplot graph',fontsize=20)\n",
    "sb.countplot(data=df,x='Potability')\n",
    "f=df['Potability'].value_counts()\n",
    "plt.yticks(f)\n",
    "plt.show()\n",
    "#below result we can conclude that output variable is balanced in records "
   ]
  },
  {
   "cell_type": "code",
   "execution_count": 20,
   "id": "95792668",
   "metadata": {},
   "outputs": [
    {
     "name": "stdout",
     "output_type": "stream",
     "text": [
      "features: ph,skewness :0.027795881574050114 \n"
     ]
    },
    {
     "data": {
      "image/png": "[encoded data removed]",
      "text/plain": [
       "<Figure size 432x288 with 1 Axes>"
      ]
     },
     "metadata": {
      "needs_background": "light"
     },
     "output_type": "display_data"
    },
    {
     "data": {
      "image/png": "[encoded data removed]",
      "text/plain": [
       "<Figure size 432x288 with 1 Axes>"
      ]
     },
     "metadata": {
      "needs_background": "light"
     },
     "output_type": "display_data"
    },
    {
     "name": "stdout",
     "output_type": "stream",
     "text": [
      "features: Hardness,skewness :-0.0393417047767249 \n"
     ]
    },
    {
     "data": {
      "image/png": "[encoded data removed]",
      "text/plain": [
       "<Figure size 432x288 with 1 Axes>"
      ]
     },
     "metadata": {
      "needs_background": "light"
     },
     "output_type": "display_data"
    },
    {
     "data": {
      "image/png": "[encoded data removed]",
      "text/plain": [
       "<Figure size 432x288 with 1 Axes>"
      ]
     },
     "metadata": {
      "needs_background": "light"
     },
     "output_type": "display_data"
    },
    {
     "name": "stdout",
     "output_type": "stream",
     "text": [
      "features: Solids,skewness :0.6216344855169127 \n"
     ]
    },
    {
     "data": {
      "image/png": "[encoded data removed]",
      "text/plain": [
       "<Figure size 432x288 with 1 Axes>"
      ]
     },
     "metadata": {
      "needs_background": "light"
     },
     "output_type": "display_data"
    },
    {
     "data": {
      "image/png": "[encoded data removed]",
      "text/plain": [
       "<Figure size 432x288 with 1 Axes>"
      ]
     },
     "metadata": {
      "needs_background": "light"
     },
     "output_type": "display_data"
    },
    {
     "name": "stdout",
     "output_type": "stream",
     "text": [
      "features: Chloramines,skewness :-0.01209844012438221 \n"
     ]
    },
    {
     "data": {
      "image/png": "[encoded data removed]",
      "text/plain": [
       "<Figure size 432x288 with 1 Axes>"
      ]
     },
     "metadata": {
      "needs_background": "light"
     },
     "output_type": "display_data"
    },
    {
     "data": {
      "image/png": "[encoded data removed]",
      "text/plain": [
       "<Figure size 432x288 with 1 Axes>"
      ]
     },
     "metadata": {
      "needs_background": "light"
     },
     "output_type": "display_data"
    },
    {
     "name": "stdout",
     "output_type": "stream",
     "text": [
      "features: Sulfate,skewness :-0.04118437258768767 \n"
     ]
    },
    {
     "data": {
      "image/png": "[encoded data removed]",
      "text/plain": [
       "<Figure size 432x288 with 1 Axes>"
      ]
     },
     "metadata": {
      "needs_background": "light"
     },
     "output_type": "display_data"
    },
    {
     "data": {
      "image/png": "[encoded data removed]",
      "text/plain": [
       "<Figure size 432x288 with 1 Axes>"
      ]
     },
     "metadata": {
      "needs_background": "light"
     },
     "output_type": "display_data"
    },
    {
     "name": "stdout",
     "output_type": "stream",
     "text": [
      "features: Conductivity,skewness :0.2644902239264119 \n"
     ]
    },
    {
     "data": {
      "image/png": "[encoded data removed]",
      "text/plain": [
       "<Figure size 432x288 with 1 Axes>"
      ]
     },
     "metadata": {
      "needs_background": "light"
     },
     "output_type": "display_data"
    },
    {
     "data": {
      "image/png": "[encoded data removed]",
      "text/plain": [
       "<Figure size 432x288 with 1 Axes>"
      ]
     },
     "metadata": {
      "needs_background": "light"
     },
     "output_type": "display_data"
    },
    {
     "name": "stdout",
     "output_type": "stream",
     "text": [
      "features: Organic_carbon,skewness :0.025532582090242492 \n"
     ]
    },
    {
     "data": {
      "image/png": "[encoded data removed]",
      "text/plain": [
       "<Figure size 432x288 with 1 Axes>"
      ]
     },
     "metadata": {
      "needs_background": "light"
     },
     "output_type": "display_data"
    },
    {
     "data": {
      "image/png": "[encoded data removed]",
      "text/plain": [
       "<Figure size 432x288 with 1 Axes>"
      ]
     },
     "metadata": {
      "needs_background": "light"
     },
     "output_type": "display_data"
    },
    {
     "name": "stdout",
     "output_type": "stream",
     "text": [
      "features: Trihalomethanes,skewness :-0.08516101983758483 \n"
     ]
    },
    {
     "data": {
      "image/png": "[encoded data removed]",
      "text/plain": [
       "<Figure size 432x288 with 1 Axes>"
      ]
     },
     "metadata": {
      "needs_background": "light"
     },
     "output_type": "display_data"
    },
    {
     "data": {
      "image/png": "[encoded data removed]",
      "text/plain": [
       "<Figure size 432x288 with 1 Axes>"
      ]
     },
     "metadata": {
      "needs_background": "light"
     },
     "output_type": "display_data"
    },
    {
     "name": "stdout",
     "output_type": "stream",
     "text": [
      "features: Turbidity,skewness :-0.007816642377392604 \n"
     ]
    },
    {
     "data": {
      "image/png": "[encoded data removed]",
      "text/plain": [
       "<Figure size 432x288 with 1 Axes>"
      ]
     },
     "metadata": {
      "needs_background": "light"
     },
     "output_type": "display_data"
    },
    {
     "data": {
      "image/png": "[encoded data removed]",
      "text/plain": [
       "<Figure size 432x288 with 1 Axes>"
      ]
     },
     "metadata": {
      "needs_background": "light"
     },
     "output_type": "display_data"
    }
   ],
   "source": [
    "#now checking the skewness of contineous numeric dtype column \n",
    "#by using normal distributed curve(is a frequency graph) of seaborn library\n",
    "df1=df.drop('Potability',axis=1)\n",
    "x=df1.columns\n",
    "for i,v in enumerate(x):\n",
    "    skew=df1[v].skew()\n",
    "    print(f'features: {v},skewness :{skew} ')\n",
    "    sb.histplot(data=df1,x=v)\n",
    "    plt.show()\n",
    "    sb.distplot(x=df1[v],hist=False)\n",
    "    plt.show()"
   ]
  },
  {
   "cell_type": "code",
   "execution_count": 21,
   "id": "4a59801e",
   "metadata": {},
   "outputs": [
    {
     "data": {
      "image/png": "[encoded data removed]",
      "text/plain": [
       "<Figure size 720x720 with 2 Axes>"
      ]
     },
     "metadata": {
      "needs_background": "light"
     },
     "output_type": "display_data"
    }
   ],
   "source": [
    "#checking the correlation btn input and output variable and visualizing it\n",
    "plt.figure(figsize=(10,10))\n",
    "sb.heatmap(df.corr(),annot=True)\n",
    "plt.show()"
   ]
  },
  {
   "cell_type": "markdown",
   "id": "35eb2ef3",
   "metadata": {},
   "source": [
    "# now giving the dataset to the classification algorithm"
   ]
  },
  {
   "cell_type": "code",
   "execution_count": 22,
   "id": "49be3a06",
   "metadata": {},
   "outputs": [],
   "source": [
    "#selecting the input and output variable\n",
    "x=df.drop('Potability',axis=1) #must be in 2d array\n",
    "y=df['Potability']             #must be in 1d array"
   ]
  },
  {
   "cell_type": "code",
   "execution_count": 23,
   "id": "1c70d382",
   "metadata": {},
   "outputs": [
    {
     "data": {
      "text/plain": [
       "(2, 1)"
      ]
     },
     "execution_count": 23,
     "metadata": {},
     "output_type": "execute_result"
    }
   ],
   "source": [
    "#checking the dimension of input and output variable\n",
    "x.ndim,y.ndim"
   ]
  },
  {
   "cell_type": "code",
   "execution_count": 24,
   "id": "6e859e7b",
   "metadata": {},
   "outputs": [],
   "source": [
    "#now bifurgating the dataset into 70:30 here 70% data we used for training with classification algo\n",
    "#30% data we are testing with classification algo\n",
    "#so calling the constructor class\n",
    "from sklearn.model_selection import train_test_split\n"
   ]
  },
  {
   "cell_type": "code",
   "execution_count": 25,
   "id": "6112367a",
   "metadata": {},
   "outputs": [],
   "source": [
    "#creating an object of train_test_split class\n",
    "x_train,x_test,y_train,y_test=train_test_split(x,y,test_size=0.3,random_state=1)"
   ]
  },
  {
   "cell_type": "markdown",
   "id": "419e2066",
   "metadata": {},
   "source": [
    "# now doing scaling on input varaiable/independent variable"
   ]
  },
  {
   "cell_type": "code",
   "execution_count": 26,
   "id": "10e6ae89",
   "metadata": {},
   "outputs": [],
   "source": [
    "#so calling the class\n",
    "from sklearn.preprocessing import StandardScaler\n",
    "#creating an object of StandardScaler class\n",
    "ss=StandardScaler()\n",
    "x_train=ss.fit_transform(x_train) #inside the paranthesis we r \n",
    "                                  #passing 2d array and return into 2d numpy array\n",
    "x_test=ss.transform(x_test)"
   ]
  },
  {
   "cell_type": "code",
   "execution_count": 27,
   "id": "c41c389d",
   "metadata": {},
   "outputs": [],
   "source": [
    "#now creating a user defined function\n",
    "def function(model):\n",
    "    #now training the model\n",
    "    model.fit(x_train,y_train)\n",
    "    #now testing the model\n",
    "    y_predict=model.predict(x_test)\n",
    "    #now evaluating the model and getting classification report in it\n",
    "    from sklearn.metrics import classification_report,confusion_matrix\n",
    "    print(classification_report(y_test,y_predict))\n",
    "    print(confusion_matrix(y_test,y_predict))\n",
    "    return model\n"
   ]
  },
  {
   "cell_type": "markdown",
   "id": "ab1b14b0",
   "metadata": {},
   "source": [
    "# now applying first classification algo named as logistic regression"
   ]
  },
  {
   "cell_type": "code",
   "execution_count": 28,
   "id": "a7622860",
   "metadata": {},
   "outputs": [],
   "source": [
    "#preparing the model by using logistic regression algo\n",
    "#calling the class\n",
    "from sklearn.linear_model import LogisticRegression\n",
    "\n",
    "#creating an object of LogisticRegression class\n",
    "lr=LogisticRegression()"
   ]
  },
  {
   "cell_type": "code",
   "execution_count": 29,
   "id": "e6e62c4f",
   "metadata": {},
   "outputs": [
    {
     "name": "stdout",
     "output_type": "stream",
     "text": [
      "              precision    recall  f1-score   support\n",
      "\n",
      "           0       0.60      1.00      0.75       585\n",
      "           1       0.00      0.00      0.00       398\n",
      "\n",
      "    accuracy                           0.60       983\n",
      "   macro avg       0.30      0.50      0.37       983\n",
      "weighted avg       0.35      0.60      0.44       983\n",
      "\n",
      "[[585   0]\n",
      " [398   0]]\n"
     ]
    }
   ],
   "source": [
    "#now traing the model and testing the model and getting classification report by calling the function\n",
    "lr=function(lr)"
   ]
  },
  {
   "cell_type": "markdown",
   "id": "756abf00",
   "metadata": {},
   "source": [
    "# now doing feature selection by using second classification algo named decision tree classifier "
   ]
  },
  {
   "cell_type": "code",
   "execution_count": 30,
   "id": "96a1de44",
   "metadata": {},
   "outputs": [],
   "source": [
    "#preparing the model by using decisiontreeclassifer algo (by default working on gini index method)\n",
    "from sklearn.tree import DecisionTreeClassifier"
   ]
  },
  {
   "cell_type": "code",
   "execution_count": 31,
   "id": "fb4c6934",
   "metadata": {},
   "outputs": [],
   "source": [
    "#creating an object of DecisionTreeClassifier class\n",
    "dt=DecisionTreeClassifier(random_state=1)"
   ]
  },
  {
   "cell_type": "code",
   "execution_count": 32,
   "id": "2abaf7cb",
   "metadata": {},
   "outputs": [
    {
     "name": "stdout",
     "output_type": "stream",
     "text": [
      "              precision    recall  f1-score   support\n",
      "\n",
      "           0       0.63      0.64      0.63       585\n",
      "           1       0.46      0.45      0.45       398\n",
      "\n",
      "    accuracy                           0.56       983\n",
      "   macro avg       0.54      0.54      0.54       983\n",
      "weighted avg       0.56      0.56      0.56       983\n",
      "\n",
      "[[372 213]\n",
      " [219 179]]\n"
     ]
    }
   ],
   "source": [
    "#now traing the model and testing the model and getting classification report by calling the function\n",
    "dt=function(dt)\n",
    "\n",
    "#below result of recall score accuracy showing less bcoz while using dt classifier\n",
    "#each input variable taking participate in the formation of tree bcoz of that model is overfitted\n",
    "#to avoid overfitting we have to use pruning technique\n",
    "#this is also limitation of dt classifier algo"
   ]
  },
  {
   "cell_type": "code",
   "execution_count": 33,
   "id": "040b207f",
   "metadata": {},
   "outputs": [
    {
     "data": {
      "text/html": [
       "<div>\n",
       "<style scoped>\n",
       "    .dataframe tbody tr th:only-of-type {\n",
       "        vertical-align: middle;\n",
       "    }\n",
       "\n",
       "    .dataframe tbody tr th {\n",
       "        vertical-align: top;\n",
       "    }\n",
       "\n",
       "    .dataframe thead th {\n",
       "        text-align: right;\n",
       "    }\n",
       "</style>\n",
       "<table border=\"1\" class=\"dataframe\">\n",
       "  <thead>\n",
       "    <tr style=\"text-align: right;\">\n",
       "      <th></th>\n",
       "      <th>feature</th>\n",
       "      <th>ig_value</th>\n",
       "    </tr>\n",
       "  </thead>\n",
       "  <tbody>\n",
       "    <tr>\n",
       "      <th>1</th>\n",
       "      <td>Hardness</td>\n",
       "      <td>0.15</td>\n",
       "    </tr>\n",
       "    <tr>\n",
       "      <th>0</th>\n",
       "      <td>ph</td>\n",
       "      <td>0.12</td>\n",
       "    </tr>\n",
       "    <tr>\n",
       "      <th>6</th>\n",
       "      <td>Organic_carbon</td>\n",
       "      <td>0.12</td>\n",
       "    </tr>\n",
       "    <tr>\n",
       "      <th>2</th>\n",
       "      <td>Solids</td>\n",
       "      <td>0.11</td>\n",
       "    </tr>\n",
       "    <tr>\n",
       "      <th>7</th>\n",
       "      <td>Trihalomethanes</td>\n",
       "      <td>0.11</td>\n",
       "    </tr>\n",
       "    <tr>\n",
       "      <th>3</th>\n",
       "      <td>Chloramines</td>\n",
       "      <td>0.10</td>\n",
       "    </tr>\n",
       "    <tr>\n",
       "      <th>4</th>\n",
       "      <td>Sulfate</td>\n",
       "      <td>0.10</td>\n",
       "    </tr>\n",
       "    <tr>\n",
       "      <th>5</th>\n",
       "      <td>Conductivity</td>\n",
       "      <td>0.10</td>\n",
       "    </tr>\n",
       "    <tr>\n",
       "      <th>8</th>\n",
       "      <td>Turbidity</td>\n",
       "      <td>0.10</td>\n",
       "    </tr>\n",
       "  </tbody>\n",
       "</table>\n",
       "</div>"
      ],
      "text/plain": [
       "           feature  ig_value\n",
       "1         Hardness      0.15\n",
       "0               ph      0.12\n",
       "6   Organic_carbon      0.12\n",
       "2           Solids      0.11\n",
       "7  Trihalomethanes      0.11\n",
       "3      Chloramines      0.10\n",
       "4          Sulfate      0.10\n",
       "5     Conductivity      0.10\n",
       "8        Turbidity      0.10"
      ]
     },
     "execution_count": 33,
     "metadata": {},
     "output_type": "execute_result"
    }
   ],
   "source": [
    "#now checking the information gain value return to DecisionTreeClassifier class object\n",
    "dt.feature_importances_.round(2)\n",
    "#now checking that which feature ig value showing and converting into df object\n",
    "dict={'feature':x.columns,'ig_value':dt.feature_importances_.round(2)}\n",
    "df=pd.DataFrame(dict)\n",
    "df.sort_values('ig_value',axis=0,ascending=False,ignore_index=False)"
   ]
  },
  {
   "cell_type": "code",
   "execution_count": 34,
   "id": "93ff8ff7",
   "metadata": {},
   "outputs": [
    {
     "data": {
      "text/plain": [
       "'feature=x.columns\\nplt.figure(figsize=(10,10))\\nfrom sklearn.tree import plot_tree\\n#creating an objects\\n_=plot_tree(dt,feature_names=feature,filled=True)\\nplt.show()'"
      ]
     },
     "execution_count": 34,
     "metadata": {},
     "output_type": "execute_result"
    }
   ],
   "source": [
    "#now creating a tree\n",
    "#another limitation of DecisionTreeClassifier is large amount of records present in it take time to \n",
    "#to form tree and consume more memory\n",
    "#calling the class\n",
    "'''feature=x.columns\n",
    "plt.figure(figsize=(10,10))\n",
    "from sklearn.tree import plot_tree\n",
    "#creating an objects\n",
    "_=plot_tree(dt,feature_names=feature,filled=True)\n",
    "plt.show()'''"
   ]
  },
  {
   "cell_type": "markdown",
   "id": "d7e1f4be",
   "metadata": {},
   "source": [
    "# now applying pruning technique to avoid overfitting model it achieve by using max_depth and min_samples_leaf hyperparameter"
   ]
  },
  {
   "cell_type": "code",
   "execution_count": 37,
   "id": "06271f6f",
   "metadata": {},
   "outputs": [
    {
     "data": {
      "text/plain": [
       "\"for i in range(8,0,-1):\\n    #creating a dt class object\\n    #by default working on gini index method pe\\n    dt1=DecisionTreeClassifier(random_state=1,max_depth=i)\\n    print('no of depth: ',i)\\n    #calling the function\\n    dt1=function(dt1)\\n    dt1\\n    print()\""
      ]
     },
     "execution_count": 37,
     "metadata": {},
     "output_type": "execute_result"
    }
   ],
   "source": [
    "#by default working on gini index method\n",
    "#so its hit and trial method\n",
    "#finding out what no of depth we r getting recall accuracy better compare to others\n",
    "'''for i in range(8,0,-1):\n",
    "    #creating a dt class object\n",
    "    #by default working on gini index method pe\n",
    "    dt1=DecisionTreeClassifier(random_state=1,max_depth=i)\n",
    "    print('no of depth: ',i)\n",
    "    #calling the function\n",
    "    dt1=function(dt1)\n",
    "    dt1\n",
    "    print()'''\n",
    "#below result we can conclude that at depth 3 we r getting recall accracy good comparative to others"
   ]
  },
  {
   "cell_type": "code",
   "execution_count": 38,
   "id": "8ed473f9",
   "metadata": {},
   "outputs": [],
   "source": [
    "#creating a dt class object\n",
    "#by default working on gini index method pe\n",
    "dt1=DecisionTreeClassifier(random_state=1,max_depth=3)"
   ]
  },
  {
   "cell_type": "code",
   "execution_count": 39,
   "id": "68253e54",
   "metadata": {},
   "outputs": [
    {
     "name": "stdout",
     "output_type": "stream",
     "text": [
      "              precision    recall  f1-score   support\n",
      "\n",
      "           0       0.63      0.93      0.75       585\n",
      "           1       0.65      0.18      0.29       398\n",
      "\n",
      "    accuracy                           0.63       983\n",
      "   macro avg       0.64      0.56      0.52       983\n",
      "weighted avg       0.64      0.63      0.56       983\n",
      "\n",
      "[[546  39]\n",
      " [325  73]]\n"
     ]
    }
   ],
   "source": [
    "#now traing the model and testing the model and getting classification report by calling the function\n",
    "dt1=function(dt1)"
   ]
  },
  {
   "cell_type": "code",
   "execution_count": 40,
   "id": "22d3921e",
   "metadata": {},
   "outputs": [
    {
     "data": {
      "text/html": [
       "<div>\n",
       "<style scoped>\n",
       "    .dataframe tbody tr th:only-of-type {\n",
       "        vertical-align: middle;\n",
       "    }\n",
       "\n",
       "    .dataframe tbody tr th {\n",
       "        vertical-align: top;\n",
       "    }\n",
       "\n",
       "    .dataframe thead th {\n",
       "        text-align: right;\n",
       "    }\n",
       "</style>\n",
       "<table border=\"1\" class=\"dataframe\">\n",
       "  <thead>\n",
       "    <tr style=\"text-align: right;\">\n",
       "      <th></th>\n",
       "      <th>feature</th>\n",
       "      <th>ig_value</th>\n",
       "    </tr>\n",
       "  </thead>\n",
       "  <tbody>\n",
       "    <tr>\n",
       "      <th>0</th>\n",
       "      <td>ph</td>\n",
       "      <td>0.51</td>\n",
       "    </tr>\n",
       "    <tr>\n",
       "      <th>4</th>\n",
       "      <td>Sulfate</td>\n",
       "      <td>0.34</td>\n",
       "    </tr>\n",
       "    <tr>\n",
       "      <th>2</th>\n",
       "      <td>Solids</td>\n",
       "      <td>0.09</td>\n",
       "    </tr>\n",
       "    <tr>\n",
       "      <th>8</th>\n",
       "      <td>Turbidity</td>\n",
       "      <td>0.06</td>\n",
       "    </tr>\n",
       "    <tr>\n",
       "      <th>1</th>\n",
       "      <td>Hardness</td>\n",
       "      <td>0.00</td>\n",
       "    </tr>\n",
       "    <tr>\n",
       "      <th>3</th>\n",
       "      <td>Chloramines</td>\n",
       "      <td>0.00</td>\n",
       "    </tr>\n",
       "    <tr>\n",
       "      <th>5</th>\n",
       "      <td>Conductivity</td>\n",
       "      <td>0.00</td>\n",
       "    </tr>\n",
       "    <tr>\n",
       "      <th>6</th>\n",
       "      <td>Organic_carbon</td>\n",
       "      <td>0.00</td>\n",
       "    </tr>\n",
       "    <tr>\n",
       "      <th>7</th>\n",
       "      <td>Trihalomethanes</td>\n",
       "      <td>0.00</td>\n",
       "    </tr>\n",
       "  </tbody>\n",
       "</table>\n",
       "</div>"
      ],
      "text/plain": [
       "           feature  ig_value\n",
       "0               ph      0.51\n",
       "4          Sulfate      0.34\n",
       "2           Solids      0.09\n",
       "8        Turbidity      0.06\n",
       "1         Hardness      0.00\n",
       "3      Chloramines      0.00\n",
       "5     Conductivity      0.00\n",
       "6   Organic_carbon      0.00\n",
       "7  Trihalomethanes      0.00"
      ]
     },
     "execution_count": 40,
     "metadata": {},
     "output_type": "execute_result"
    }
   ],
   "source": [
    "#now checking the information gain value return to DecisionTreeClassifier class object\n",
    "dt.feature_importances_.round(2)\n",
    "#now checking that which feature ig value showing and converting into df object\n",
    "dict={'feature':x.columns,'ig_value':dt1.feature_importances_.round(2)}\n",
    "df=pd.DataFrame(dict)\n",
    "df.sort_values('ig_value',axis=0,ascending=False,ignore_index=False)"
   ]
  },
  {
   "cell_type": "code",
   "execution_count": 41,
   "id": "fed655d1",
   "metadata": {},
   "outputs": [
    {
     "data": {
      "image/png": "[encoded data removed]",
      "text/plain": [
       "<Figure size 720x720 with 1 Axes>"
      ]
     },
     "metadata": {
      "needs_background": "light"
     },
     "output_type": "display_data"
    }
   ],
   "source": [
    "#now creating a tree\n",
    "#another limitation of DecisionTreeClassifier is large amount of records present in it take time to \n",
    "#to form tree and consume more memory\n",
    "#calling the class\n",
    "feature=x.columns\n",
    "plt.figure(figsize=(10,10))\n",
    "from sklearn.tree import plot_tree\n",
    "#creating an objects\n",
    "_=plot_tree(dt1,feature_names=feature,filled=True)\n",
    "plt.show()"
   ]
  },
  {
   "cell_type": "markdown",
   "id": "7c2a2f34",
   "metadata": {},
   "source": [
    "# now applying pruning technique min_samples_leaf to avoid overfitting model"
   ]
  },
  {
   "cell_type": "code",
   "execution_count": 43,
   "id": "b0610874",
   "metadata": {},
   "outputs": [
    {
     "data": {
      "text/plain": [
       "\"for i in range(45,101,1):\\n    #creating a dt class object\\n    #by default working on gini index method pe\\n    dt2=DecisionTreeClassifier(random_state=1,min_samples_leaf=i)\\n    print('at what no of depth: ',i)\\n    #calling the function\\n    dt2=function(dt2)\\n    dt2\\n    print()\""
      ]
     },
     "execution_count": 43,
     "metadata": {},
     "output_type": "execute_result"
    }
   ],
   "source": [
    "#we r finding out at what no of mn samples leaf we r getting recall accuracy good compare to others\n",
    "'''for i in range(45,101,1):\n",
    "    #creating a dt class object\n",
    "    #by default working on gini index method pe\n",
    "    dt2=DecisionTreeClassifier(random_state=1,min_samples_leaf=i)\n",
    "    print('at what no of depth: ',i)\n",
    "    #calling the function\n",
    "    dt2=function(dt2)\n",
    "    dt2\n",
    "    print()'''\n",
    "#below result we can conclude that at 45 no of min samples leaf we r getting recall accuracy good\n",
    "#comapre to others"
   ]
  },
  {
   "cell_type": "code",
   "execution_count": 44,
   "id": "adcc959f",
   "metadata": {},
   "outputs": [],
   "source": [
    "#creating a dt class object\n",
    "#by default working on gini index method pe\n",
    "dt2=DecisionTreeClassifier(random_state=1,min_samples_leaf=45)"
   ]
  },
  {
   "cell_type": "code",
   "execution_count": 45,
   "id": "16fff716",
   "metadata": {},
   "outputs": [
    {
     "name": "stdout",
     "output_type": "stream",
     "text": [
      "              precision    recall  f1-score   support\n",
      "\n",
      "           0       0.63      0.73      0.68       585\n",
      "           1       0.49      0.38      0.43       398\n",
      "\n",
      "    accuracy                           0.59       983\n",
      "   macro avg       0.56      0.55      0.55       983\n",
      "weighted avg       0.57      0.59      0.58       983\n",
      "\n",
      "[[426 159]\n",
      " [247 151]]\n"
     ]
    }
   ],
   "source": [
    "#calling the function\n",
    "dt2=function(dt2)"
   ]
  },
  {
   "cell_type": "code",
   "execution_count": 46,
   "id": "7059ab43",
   "metadata": {},
   "outputs": [
    {
     "data": {
      "text/html": [
       "<div>\n",
       "<style scoped>\n",
       "    .dataframe tbody tr th:only-of-type {\n",
       "        vertical-align: middle;\n",
       "    }\n",
       "\n",
       "    .dataframe tbody tr th {\n",
       "        vertical-align: top;\n",
       "    }\n",
       "\n",
       "    .dataframe thead th {\n",
       "        text-align: right;\n",
       "    }\n",
       "</style>\n",
       "<table border=\"1\" class=\"dataframe\">\n",
       "  <thead>\n",
       "    <tr style=\"text-align: right;\">\n",
       "      <th></th>\n",
       "      <th>feature</th>\n",
       "      <th>ig_value</th>\n",
       "    </tr>\n",
       "  </thead>\n",
       "  <tbody>\n",
       "    <tr>\n",
       "      <th>0</th>\n",
       "      <td>ph</td>\n",
       "      <td>0.30</td>\n",
       "    </tr>\n",
       "    <tr>\n",
       "      <th>4</th>\n",
       "      <td>Sulfate</td>\n",
       "      <td>0.21</td>\n",
       "    </tr>\n",
       "    <tr>\n",
       "      <th>2</th>\n",
       "      <td>Solids</td>\n",
       "      <td>0.13</td>\n",
       "    </tr>\n",
       "    <tr>\n",
       "      <th>1</th>\n",
       "      <td>Hardness</td>\n",
       "      <td>0.11</td>\n",
       "    </tr>\n",
       "    <tr>\n",
       "      <th>8</th>\n",
       "      <td>Turbidity</td>\n",
       "      <td>0.10</td>\n",
       "    </tr>\n",
       "    <tr>\n",
       "      <th>7</th>\n",
       "      <td>Trihalomethanes</td>\n",
       "      <td>0.05</td>\n",
       "    </tr>\n",
       "    <tr>\n",
       "      <th>3</th>\n",
       "      <td>Chloramines</td>\n",
       "      <td>0.04</td>\n",
       "    </tr>\n",
       "    <tr>\n",
       "      <th>6</th>\n",
       "      <td>Organic_carbon</td>\n",
       "      <td>0.03</td>\n",
       "    </tr>\n",
       "    <tr>\n",
       "      <th>5</th>\n",
       "      <td>Conductivity</td>\n",
       "      <td>0.02</td>\n",
       "    </tr>\n",
       "  </tbody>\n",
       "</table>\n",
       "</div>"
      ],
      "text/plain": [
       "           feature  ig_value\n",
       "0               ph      0.30\n",
       "4          Sulfate      0.21\n",
       "2           Solids      0.13\n",
       "1         Hardness      0.11\n",
       "8        Turbidity      0.10\n",
       "7  Trihalomethanes      0.05\n",
       "3      Chloramines      0.04\n",
       "6   Organic_carbon      0.03\n",
       "5     Conductivity      0.02"
      ]
     },
     "execution_count": 46,
     "metadata": {},
     "output_type": "execute_result"
    }
   ],
   "source": [
    "#now checking the information gain value return to DecisionTreeClassifier class object\n",
    "dt.feature_importances_.round(2)\n",
    "#now checking that which feature ig value showing and converting into df object\n",
    "dict={'feature':x.columns,'ig_value':dt2.feature_importances_.round(2)}\n",
    "df=pd.DataFrame(dict)\n",
    "df.sort_values('ig_value',axis=0,ascending=False,ignore_index=False)"
   ]
  },
  {
   "cell_type": "code",
   "execution_count": 47,
   "id": "c12c443f",
   "metadata": {},
   "outputs": [
    {
     "data": {
      "text/plain": [
       "'feature=x.columns\\nplt.figure(figsize=(10,10))\\nfrom sklearn.tree import plot_tree\\n#creating an objects\\n_=plot_tree(dt2,feature_names=feature,filled=True)\\nplt.show()'"
      ]
     },
     "execution_count": 47,
     "metadata": {},
     "output_type": "execute_result"
    }
   ],
   "source": [
    "#now creating a tree\n",
    "#another limitation of DecisionTreeClassifier is large amount of records present in it take time to \n",
    "#to form tree and consume more memory\n",
    "#calling the class\n",
    "feature=x.columns\n",
    "plt.figure(figsize=(10,10))\n",
    "from sklearn.tree import plot_tree\n",
    "#creating an objects\n",
    "_=plot_tree(dt2,feature_names=feature,filled=True)\n",
    "plt.show()"
   ]
  },
  {
   "cell_type": "markdown",
   "id": "4ad23bb3",
   "metadata": {},
   "source": [
    "# again doing feature selection by dtclassiiferalgo by using entropy method"
   ]
  },
  {
   "cell_type": "code",
   "execution_count": 48,
   "id": "d81a76ed",
   "metadata": {},
   "outputs": [
    {
     "name": "stdout",
     "output_type": "stream",
     "text": [
      "              precision    recall  f1-score   support\n",
      "\n",
      "           0       0.64      0.66      0.65       585\n",
      "           1       0.48      0.46      0.47       398\n",
      "\n",
      "    accuracy                           0.58       983\n",
      "   macro avg       0.56      0.56      0.56       983\n",
      "weighted avg       0.58      0.58      0.58       983\n",
      "\n",
      "[[389 196]\n",
      " [216 182]]\n"
     ]
    }
   ],
   "source": [
    "#creating an object of DecisionTreeClassifier class\n",
    "dt=DecisionTreeClassifier(random_state=1,criterion='entropy')\n",
    "#now training the model and testing the model and getting classification report by calling the functon\n",
    "dt=function(dt)"
   ]
  },
  {
   "cell_type": "code",
   "execution_count": 49,
   "id": "36d907be",
   "metadata": {},
   "outputs": [
    {
     "data": {
      "text/html": [
       "<div>\n",
       "<style scoped>\n",
       "    .dataframe tbody tr th:only-of-type {\n",
       "        vertical-align: middle;\n",
       "    }\n",
       "\n",
       "    .dataframe tbody tr th {\n",
       "        vertical-align: top;\n",
       "    }\n",
       "\n",
       "    .dataframe thead th {\n",
       "        text-align: right;\n",
       "    }\n",
       "</style>\n",
       "<table border=\"1\" class=\"dataframe\">\n",
       "  <thead>\n",
       "    <tr style=\"text-align: right;\">\n",
       "      <th></th>\n",
       "      <th>ig</th>\n",
       "      <th>feature</th>\n",
       "    </tr>\n",
       "  </thead>\n",
       "  <tbody>\n",
       "    <tr>\n",
       "      <th>0</th>\n",
       "      <td>0.16</td>\n",
       "      <td>Hardness</td>\n",
       "    </tr>\n",
       "    <tr>\n",
       "      <th>1</th>\n",
       "      <td>0.13</td>\n",
       "      <td>ph</td>\n",
       "    </tr>\n",
       "    <tr>\n",
       "      <th>2</th>\n",
       "      <td>0.13</td>\n",
       "      <td>Conductivity</td>\n",
       "    </tr>\n",
       "    <tr>\n",
       "      <th>3</th>\n",
       "      <td>0.12</td>\n",
       "      <td>Turbidity</td>\n",
       "    </tr>\n",
       "    <tr>\n",
       "      <th>4</th>\n",
       "      <td>0.11</td>\n",
       "      <td>Chloramines</td>\n",
       "    </tr>\n",
       "    <tr>\n",
       "      <th>5</th>\n",
       "      <td>0.10</td>\n",
       "      <td>Solids</td>\n",
       "    </tr>\n",
       "    <tr>\n",
       "      <th>6</th>\n",
       "      <td>0.09</td>\n",
       "      <td>Organic_carbon</td>\n",
       "    </tr>\n",
       "    <tr>\n",
       "      <th>7</th>\n",
       "      <td>0.09</td>\n",
       "      <td>Trihalomethanes</td>\n",
       "    </tr>\n",
       "    <tr>\n",
       "      <th>8</th>\n",
       "      <td>0.08</td>\n",
       "      <td>Sulfate</td>\n",
       "    </tr>\n",
       "  </tbody>\n",
       "</table>\n",
       "</div>"
      ],
      "text/plain": [
       "     ig          feature\n",
       "0  0.16         Hardness\n",
       "1  0.13               ph\n",
       "2  0.13     Conductivity\n",
       "3  0.12        Turbidity\n",
       "4  0.11      Chloramines\n",
       "5  0.10           Solids\n",
       "6  0.09   Organic_carbon\n",
       "7  0.09  Trihalomethanes\n",
       "8  0.08          Sulfate"
      ]
     },
     "execution_count": 49,
     "metadata": {},
     "output_type": "execute_result"
    }
   ],
   "source": [
    "#if i want to compare the ig value coming out or which feature \n",
    "#it achieve by creating a df object\n",
    "dict={'ig':dt.feature_importances_.round(2),'feature':x.columns}\n",
    "df1=pd.DataFrame(dict)\n",
    "df1.sort_values('ig',axis=0,ascending=False,ignore_index=True)"
   ]
  },
  {
   "cell_type": "code",
   "execution_count": 50,
   "id": "1d12c4ef",
   "metadata": {},
   "outputs": [
    {
     "data": {
      "text/html": [
       "<div>\n",
       "<style scoped>\n",
       "    .dataframe tbody tr th:only-of-type {\n",
       "        vertical-align: middle;\n",
       "    }\n",
       "\n",
       "    .dataframe tbody tr th {\n",
       "        vertical-align: top;\n",
       "    }\n",
       "\n",
       "    .dataframe thead th {\n",
       "        text-align: right;\n",
       "    }\n",
       "</style>\n",
       "<table border=\"1\" class=\"dataframe\">\n",
       "  <thead>\n",
       "    <tr style=\"text-align: right;\">\n",
       "      <th></th>\n",
       "      <th>feature</th>\n",
       "      <th>ig_value</th>\n",
       "    </tr>\n",
       "  </thead>\n",
       "  <tbody>\n",
       "    <tr>\n",
       "      <th>1</th>\n",
       "      <td>Hardness</td>\n",
       "      <td>0.16</td>\n",
       "    </tr>\n",
       "    <tr>\n",
       "      <th>0</th>\n",
       "      <td>ph</td>\n",
       "      <td>0.13</td>\n",
       "    </tr>\n",
       "    <tr>\n",
       "      <th>5</th>\n",
       "      <td>Conductivity</td>\n",
       "      <td>0.13</td>\n",
       "    </tr>\n",
       "    <tr>\n",
       "      <th>8</th>\n",
       "      <td>Turbidity</td>\n",
       "      <td>0.12</td>\n",
       "    </tr>\n",
       "    <tr>\n",
       "      <th>3</th>\n",
       "      <td>Chloramines</td>\n",
       "      <td>0.11</td>\n",
       "    </tr>\n",
       "    <tr>\n",
       "      <th>2</th>\n",
       "      <td>Solids</td>\n",
       "      <td>0.10</td>\n",
       "    </tr>\n",
       "    <tr>\n",
       "      <th>6</th>\n",
       "      <td>Organic_carbon</td>\n",
       "      <td>0.09</td>\n",
       "    </tr>\n",
       "    <tr>\n",
       "      <th>7</th>\n",
       "      <td>Trihalomethanes</td>\n",
       "      <td>0.09</td>\n",
       "    </tr>\n",
       "    <tr>\n",
       "      <th>4</th>\n",
       "      <td>Sulfate</td>\n",
       "      <td>0.08</td>\n",
       "    </tr>\n",
       "  </tbody>\n",
       "</table>\n",
       "</div>"
      ],
      "text/plain": [
       "           feature  ig_value\n",
       "1         Hardness      0.16\n",
       "0               ph      0.13\n",
       "5     Conductivity      0.13\n",
       "8        Turbidity      0.12\n",
       "3      Chloramines      0.11\n",
       "2           Solids      0.10\n",
       "6   Organic_carbon      0.09\n",
       "7  Trihalomethanes      0.09\n",
       "4          Sulfate      0.08"
      ]
     },
     "execution_count": 50,
     "metadata": {},
     "output_type": "execute_result"
    }
   ],
   "source": [
    "#now checking the information gain value return to DecisionTreeClassifier class object\n",
    "dt.feature_importances_.round(2)\n",
    "#now checking that which feature ig value showing and converting into df object\n",
    "dict={'feature':x.columns,'ig_value':dt.feature_importances_.round(2)}\n",
    "df=pd.DataFrame(dict)\n",
    "df.sort_values('ig_value',axis=0,ascending=False,ignore_index=False)"
   ]
  },
  {
   "cell_type": "code",
   "execution_count": 51,
   "id": "9fb779ae",
   "metadata": {},
   "outputs": [
    {
     "data": {
      "text/plain": [
       "'feature=x.columns\\nplt.figure(figsize=(10,10))\\nfrom sklearn.tree import plot_tree\\n#creating an objects\\n_=plot_tree(dt,feature_names=feature,filled=True)\\nplt.show()'"
      ]
     },
     "execution_count": 51,
     "metadata": {},
     "output_type": "execute_result"
    }
   ],
   "source": [
    "#now creating a tree\n",
    "#another limitation of DecisionTreeClassifier is large amount of records present in it take time to \n",
    "#to form tree and consume more memory\n",
    "#calling the class\n",
    "feature=x.columns\n",
    "plt.figure(figsize=(10,10))\n",
    "from sklearn.tree import plot_tree\n",
    "#creating an objects\n",
    "_=plot_tree(dt,feature_names=feature,filled=True)\n",
    "plt.show()"
   ]
  },
  {
   "cell_type": "markdown",
   "id": "739c50a2",
   "metadata": {},
   "source": [
    "# to avoid overfitting model we r using pruning technique"
   ]
  },
  {
   "cell_type": "code",
   "execution_count": 53,
   "id": "cbc63116",
   "metadata": {},
   "outputs": [
    {
     "data": {
      "text/plain": [
       "\"for i in range(8,0,-1):\\n    #creating a dt class object\\n    #by default working on gini index method pe\\n    dt1=DecisionTreeClassifier(random_state=1,max_depth=i,criterion='entropy')\\n    print('no of depth: ',i)\\n    #calling the function\\n    dt1=function(dt1)\\n    dt1\\n    print()\""
      ]
     },
     "execution_count": 53,
     "metadata": {},
     "output_type": "execute_result"
    }
   ],
   "source": [
    "#so its hit and trial method\n",
    "#finding out what no of depth we r getting recall accuracy better compare to others\n",
    "'''for i in range(8,0,-1):\n",
    "    #creating a dt class object\n",
    "    #by default working on gini index method pe\n",
    "    dt1=DecisionTreeClassifier(random_state=1,max_depth=i,criterion='entropy')\n",
    "    print('no of depth: ',i)\n",
    "    #calling the function\n",
    "    dt1=function(dt1)\n",
    "    dt1\n",
    "    print()'''\n",
    "#below result we can conclude that at depth 4 we r getting recall accracy good"
   ]
  },
  {
   "cell_type": "code",
   "execution_count": 54,
   "id": "aea12293",
   "metadata": {},
   "outputs": [
    {
     "name": "stdout",
     "output_type": "stream",
     "text": [
      "              precision    recall  f1-score   support\n",
      "\n",
      "           0       0.64      0.90      0.74       585\n",
      "           1       0.62      0.25      0.36       398\n",
      "\n",
      "    accuracy                           0.63       983\n",
      "   macro avg       0.63      0.57      0.55       983\n",
      "weighted avg       0.63      0.63      0.59       983\n",
      "\n",
      "[[524  61]\n",
      " [298 100]]\n"
     ]
    }
   ],
   "source": [
    "#creating a dt class object\n",
    "#by default working on gini index method pe\n",
    "dt1=DecisionTreeClassifier(random_state=1,max_depth=4,criterion='entropy')\n",
    "#calling the function\n",
    "dt1=function(dt1)"
   ]
  },
  {
   "cell_type": "code",
   "execution_count": 55,
   "id": "cc997b3a",
   "metadata": {},
   "outputs": [
    {
     "data": {
      "text/html": [
       "<div>\n",
       "<style scoped>\n",
       "    .dataframe tbody tr th:only-of-type {\n",
       "        vertical-align: middle;\n",
       "    }\n",
       "\n",
       "    .dataframe tbody tr th {\n",
       "        vertical-align: top;\n",
       "    }\n",
       "\n",
       "    .dataframe thead th {\n",
       "        text-align: right;\n",
       "    }\n",
       "</style>\n",
       "<table border=\"1\" class=\"dataframe\">\n",
       "  <thead>\n",
       "    <tr style=\"text-align: right;\">\n",
       "      <th></th>\n",
       "      <th>ig</th>\n",
       "      <th>feature</th>\n",
       "    </tr>\n",
       "  </thead>\n",
       "  <tbody>\n",
       "    <tr>\n",
       "      <th>0</th>\n",
       "      <td>0.30</td>\n",
       "      <td>ph</td>\n",
       "    </tr>\n",
       "    <tr>\n",
       "      <th>1</th>\n",
       "      <td>0.21</td>\n",
       "      <td>Hardness</td>\n",
       "    </tr>\n",
       "    <tr>\n",
       "      <th>2</th>\n",
       "      <td>0.20</td>\n",
       "      <td>Sulfate</td>\n",
       "    </tr>\n",
       "    <tr>\n",
       "      <th>3</th>\n",
       "      <td>0.17</td>\n",
       "      <td>Chloramines</td>\n",
       "    </tr>\n",
       "    <tr>\n",
       "      <th>4</th>\n",
       "      <td>0.06</td>\n",
       "      <td>Solids</td>\n",
       "    </tr>\n",
       "    <tr>\n",
       "      <th>5</th>\n",
       "      <td>0.04</td>\n",
       "      <td>Turbidity</td>\n",
       "    </tr>\n",
       "    <tr>\n",
       "      <th>6</th>\n",
       "      <td>0.03</td>\n",
       "      <td>Organic_carbon</td>\n",
       "    </tr>\n",
       "    <tr>\n",
       "      <th>7</th>\n",
       "      <td>0.00</td>\n",
       "      <td>Conductivity</td>\n",
       "    </tr>\n",
       "    <tr>\n",
       "      <th>8</th>\n",
       "      <td>0.00</td>\n",
       "      <td>Trihalomethanes</td>\n",
       "    </tr>\n",
       "  </tbody>\n",
       "</table>\n",
       "</div>"
      ],
      "text/plain": [
       "     ig          feature\n",
       "0  0.30               ph\n",
       "1  0.21         Hardness\n",
       "2  0.20          Sulfate\n",
       "3  0.17      Chloramines\n",
       "4  0.06           Solids\n",
       "5  0.04        Turbidity\n",
       "6  0.03   Organic_carbon\n",
       "7  0.00     Conductivity\n",
       "8  0.00  Trihalomethanes"
      ]
     },
     "execution_count": 55,
     "metadata": {},
     "output_type": "execute_result"
    }
   ],
   "source": [
    "#if i want to compare the ig value coming out or which feature \n",
    "#it achieve by creating a df object\n",
    "dict={'ig':dt1.feature_importances_.round(2),'feature':x.columns}\n",
    "df1=pd.DataFrame(dict)\n",
    "df1.sort_values('ig',axis=0,ascending=False,ignore_index=True)"
   ]
  },
  {
   "cell_type": "code",
   "execution_count": 56,
   "id": "42f16714",
   "metadata": {},
   "outputs": [
    {
     "data": {
      "text/plain": [
       "'feature=x.columns\\nplt.figure(figsize=(10,10))\\nfrom sklearn.tree import plot_tree\\n#creating an objects\\n_=plot_tree(dt1,feature_names=feature,filled=True)\\nplt.show()'"
      ]
     },
     "execution_count": 56,
     "metadata": {},
     "output_type": "execute_result"
    }
   ],
   "source": [
    "#now creating a tree\n",
    "#another limitation of DecisionTreeClassifier is large amount of records present in it take time to \n",
    "#to form tree and consume more memory\n",
    "#calling the class\n",
    "feature=x.columns\n",
    "plt.figure(figsize=(10,10))\n",
    "from sklearn.tree import plot_tree\n",
    "#creating an objects\n",
    "_=plot_tree(dt1,feature_names=feature,filled=True)\n",
    "plt.show()"
   ]
  },
  {
   "cell_type": "markdown",
   "id": "ef887ec6",
   "metadata": {},
   "source": [
    "# now applying pruning technique min_samples_leaf to avoid overfitting model"
   ]
  },
  {
   "cell_type": "code",
   "execution_count": 58,
   "id": "759b7b50",
   "metadata": {},
   "outputs": [
    {
     "data": {
      "text/plain": [
       "\"for i in range(45,101,1):\\n    #creating a dt class object\\n    #by default working on gini index method pe\\n    dt2=DecisionTreeClassifier(random_state=1,min_samples_leaf=i,criterion='entropy')\\n    print('at what no of depth: ',i)\\n    #calling the function\\n    dt2=function(dt2)\\n    dt2\\n    print()\""
      ]
     },
     "execution_count": 58,
     "metadata": {},
     "output_type": "execute_result"
    }
   ],
   "source": [
    "#we r finding out at what no of mn samples leaf we r getting recall accuracy good compare to others\n",
    "'''for i in range(45,101,1):\n",
    "    #creating a dt class object\n",
    "    #by default working on gini index method pe\n",
    "    dt2=DecisionTreeClassifier(random_state=1,min_samples_leaf=i,criterion='entropy')\n",
    "    print('at what no of depth: ',i)\n",
    "    #calling the function\n",
    "    dt2=function(dt2)\n",
    "    dt2\n",
    "    print()'''\n",
    "#below result we can conclude that at 45 no of min samples leaf we r getting recall accuracy good\n",
    "#comapre to others"
   ]
  },
  {
   "cell_type": "code",
   "execution_count": 59,
   "id": "9639f4d3",
   "metadata": {},
   "outputs": [
    {
     "name": "stdout",
     "output_type": "stream",
     "text": [
      "              precision    recall  f1-score   support\n",
      "\n",
      "           0       0.65      0.82      0.73       585\n",
      "           1       0.57      0.35      0.43       398\n",
      "\n",
      "    accuracy                           0.63       983\n",
      "   macro avg       0.61      0.59      0.58       983\n",
      "weighted avg       0.62      0.63      0.61       983\n",
      "\n",
      "[[482 103]\n",
      " [260 138]]\n"
     ]
    }
   ],
   "source": [
    "#creating a dt class object\n",
    "#by default working on gini index method pe\n",
    "dt2=DecisionTreeClassifier(random_state=1,min_samples_leaf=45,criterion='entropy')\n",
    "#calling the function\n",
    "dt2=function(dt2)"
   ]
  },
  {
   "cell_type": "code",
   "execution_count": 60,
   "id": "c4df8390",
   "metadata": {},
   "outputs": [
    {
     "data": {
      "text/html": [
       "<div>\n",
       "<style scoped>\n",
       "    .dataframe tbody tr th:only-of-type {\n",
       "        vertical-align: middle;\n",
       "    }\n",
       "\n",
       "    .dataframe tbody tr th {\n",
       "        vertical-align: top;\n",
       "    }\n",
       "\n",
       "    .dataframe thead th {\n",
       "        text-align: right;\n",
       "    }\n",
       "</style>\n",
       "<table border=\"1\" class=\"dataframe\">\n",
       "  <thead>\n",
       "    <tr style=\"text-align: right;\">\n",
       "      <th></th>\n",
       "      <th>ig</th>\n",
       "      <th>feature</th>\n",
       "    </tr>\n",
       "  </thead>\n",
       "  <tbody>\n",
       "    <tr>\n",
       "      <th>0</th>\n",
       "      <td>0.39</td>\n",
       "      <td>ph</td>\n",
       "    </tr>\n",
       "    <tr>\n",
       "      <th>1</th>\n",
       "      <td>0.19</td>\n",
       "      <td>Sulfate</td>\n",
       "    </tr>\n",
       "    <tr>\n",
       "      <th>2</th>\n",
       "      <td>0.16</td>\n",
       "      <td>Hardness</td>\n",
       "    </tr>\n",
       "    <tr>\n",
       "      <th>3</th>\n",
       "      <td>0.08</td>\n",
       "      <td>Solids</td>\n",
       "    </tr>\n",
       "    <tr>\n",
       "      <th>4</th>\n",
       "      <td>0.06</td>\n",
       "      <td>Chloramines</td>\n",
       "    </tr>\n",
       "    <tr>\n",
       "      <th>5</th>\n",
       "      <td>0.06</td>\n",
       "      <td>Trihalomethanes</td>\n",
       "    </tr>\n",
       "    <tr>\n",
       "      <th>6</th>\n",
       "      <td>0.04</td>\n",
       "      <td>Conductivity</td>\n",
       "    </tr>\n",
       "    <tr>\n",
       "      <th>7</th>\n",
       "      <td>0.01</td>\n",
       "      <td>Organic_carbon</td>\n",
       "    </tr>\n",
       "    <tr>\n",
       "      <th>8</th>\n",
       "      <td>0.01</td>\n",
       "      <td>Turbidity</td>\n",
       "    </tr>\n",
       "  </tbody>\n",
       "</table>\n",
       "</div>"
      ],
      "text/plain": [
       "     ig          feature\n",
       "0  0.39               ph\n",
       "1  0.19          Sulfate\n",
       "2  0.16         Hardness\n",
       "3  0.08           Solids\n",
       "4  0.06      Chloramines\n",
       "5  0.06  Trihalomethanes\n",
       "6  0.04     Conductivity\n",
       "7  0.01   Organic_carbon\n",
       "8  0.01        Turbidity"
      ]
     },
     "execution_count": 60,
     "metadata": {},
     "output_type": "execute_result"
    }
   ],
   "source": [
    "#if i want to compare the ig value coming out or which feature \n",
    "#it achieve by creating a df object\n",
    "dict={'ig':dt2.feature_importances_.round(2),'feature':x.columns}\n",
    "df1=pd.DataFrame(dict)\n",
    "df1.sort_values('ig',axis=0,ascending=False,ignore_index=True)"
   ]
  },
  {
   "cell_type": "code",
   "execution_count": 61,
   "id": "8837ead7",
   "metadata": {},
   "outputs": [
    {
     "data": {
      "text/plain": [
       "'feature=x.columns\\nplt.figure(figsize=(10,10))\\nfrom sklearn.tree import plot_tree\\n#creating an objects\\n_=plot_tree(dt2,feature_names=feature,filled=True)\\nplt.show()'"
      ]
     },
     "execution_count": 61,
     "metadata": {},
     "output_type": "execute_result"
    }
   ],
   "source": [
    "#now creating a tree\n",
    "#another limitation of DecisionTreeClassifier is large amount of records present in it take time to \n",
    "#to form tree and consume more memory\n",
    "#calling the class\n",
    "feature=x.columns\n",
    "plt.figure(figsize=(10,10))\n",
    "from sklearn.tree import plot_tree\n",
    "#creating an objects\n",
    "_=plot_tree(dt2,feature_names=feature,filled=True)\n",
    "plt.show()"
   ]
  },
  {
   "cell_type": "markdown",
   "id": "e16bc5a0",
   "metadata": {},
   "source": [
    "conclusion:- decision tree classifier algo along with entropy method is suitable for this given dataset"
   ]
  },
  {
   "cell_type": "markdown",
   "id": "78901dea",
   "metadata": {},
   "source": [
    "# now applying 3rd classification named as randomforesttreeclassifier algo using gini index"
   ]
  },
  {
   "cell_type": "code",
   "execution_count": 62,
   "id": "86a342de",
   "metadata": {},
   "outputs": [],
   "source": [
    "#preparing the model by using randomforestclassifer algo\n",
    "from sklearn.ensemble import RandomForestClassifier"
   ]
  },
  {
   "cell_type": "code",
   "execution_count": 63,
   "id": "7b5cd72d",
   "metadata": {},
   "outputs": [],
   "source": [
    "#in rfc algo we r finding out what no of features we r getting recall accuracy good\n",
    "#we r finding randomly selected feature ka ig value by using entropy method\n",
    "#n_estimators means 70% training data reqd how many no of dt to get recall accuracy good"
   ]
  },
  {
   "cell_type": "code",
   "execution_count": 64,
   "id": "0ff4c735",
   "metadata": {},
   "outputs": [
    {
     "data": {
      "text/plain": [
       "(3276, 9)"
      ]
     },
     "execution_count": 64,
     "metadata": {},
     "output_type": "execute_result"
    }
   ],
   "source": [
    "x.shape"
   ]
  },
  {
   "cell_type": "code",
   "execution_count": 66,
   "id": "7c755adc",
   "metadata": {},
   "outputs": [
    {
     "data": {
      "text/plain": [
       "\"for i in range (9,0,-1):\\n    #creating an object of rfc class\\n    rfc=RandomForestClassifier(n_estimators=10,max_features=i,random_state=1)\\n    print('at what min no of features',i)\\n    #calling the function\\n    rfc=function(rfc)\\n    rfc\\n    print()\""
      ]
     },
     "execution_count": 66,
     "metadata": {},
     "output_type": "execute_result"
    }
   ],
   "source": [
    "#so its hit and trial method\n",
    "'''for i in range (9,0,-1):\n",
    "    #creating an object of rfc class\n",
    "    rfc=RandomForestClassifier(n_estimators=10,max_features=i,random_state=1)\n",
    "    print('at what min no of features',i)\n",
    "    #calling the function\n",
    "    rfc=function(rfc)\n",
    "    rfc\n",
    "    print()'''\n",
    "#below result we can conclude that at 2 no of features of dt we r getting recall accuracy good\n",
    "#comparatives to others"
   ]
  },
  {
   "cell_type": "code",
   "execution_count": 67,
   "id": "a2394294",
   "metadata": {},
   "outputs": [
    {
     "name": "stdout",
     "output_type": "stream",
     "text": [
      "              precision    recall  f1-score   support\n",
      "\n",
      "           0       0.64      0.85      0.73       585\n",
      "           1       0.58      0.30      0.40       398\n",
      "\n",
      "    accuracy                           0.63       983\n",
      "   macro avg       0.61      0.58      0.57       983\n",
      "weighted avg       0.62      0.63      0.60       983\n",
      "\n",
      "[[499  86]\n",
      " [278 120]]\n"
     ]
    }
   ],
   "source": [
    "#creating an object of rfc class\n",
    "rfc=RandomForestClassifier(n_estimators=10,max_features=2,random_state=1)\n",
    "#calling the function\n",
    "rfc=function(rfc)"
   ]
  },
  {
   "cell_type": "markdown",
   "id": "02fd9f90",
   "metadata": {},
   "source": [
    "# now applying randomforestclassifer algo using entropy method"
   ]
  },
  {
   "cell_type": "code",
   "execution_count": 69,
   "id": "e44cd6d5",
   "metadata": {},
   "outputs": [
    {
     "data": {
      "text/plain": [
       "\"for i in range (9,0,-1):\\n    #creating an object of rfc class\\n    rfc=RandomForestClassifier(n_estimators=10,max_features=i,criterion='entropy',random_state=1)\\n    print('at what min no of features',i)\\n    #calling the function\\n    rfc=function(rfc)\\n    rfc\\n    print()\""
      ]
     },
     "execution_count": 69,
     "metadata": {},
     "output_type": "execute_result"
    }
   ],
   "source": [
    "#so its hit and trial method\n",
    "'''for i in range (9,0,-1):\n",
    "    #creating an object of rfc class\n",
    "    rfc=RandomForestClassifier(n_estimators=10,max_features=i,criterion='entropy',random_state=1)\n",
    "    print('at what min no of features',i)\n",
    "    #calling the function\n",
    "    rfc=function(rfc)\n",
    "    rfc\n",
    "    print()'''\n",
    "#below result we can conclude that at 4 no of features of dt we r getting recall accuracy good\n",
    "#comparatives to others"
   ]
  },
  {
   "cell_type": "code",
   "execution_count": 70,
   "id": "d26a3ce4",
   "metadata": {},
   "outputs": [
    {
     "name": "stdout",
     "output_type": "stream",
     "text": [
      "              precision    recall  f1-score   support\n",
      "\n",
      "           0       0.65      0.85      0.74       585\n",
      "           1       0.59      0.31      0.41       398\n",
      "\n",
      "    accuracy                           0.63       983\n",
      "   macro avg       0.62      0.58      0.57       983\n",
      "weighted avg       0.62      0.63      0.60       983\n",
      "\n",
      "[[499  86]\n",
      " [273 125]]\n"
     ]
    }
   ],
   "source": [
    "#creating an object of rfc class\n",
    "rfc=RandomForestClassifier(n_estimators=10,max_features=4,criterion='entropy',random_state=1)\n",
    "#calling the function\n",
    "rfc=function(rfc)"
   ]
  },
  {
   "cell_type": "markdown",
   "id": "c5b62267",
   "metadata": {},
   "source": [
    "conclusion:- for this given dataset random forest tree classifier algo with entropy method is suitable"
   ]
  },
  {
   "cell_type": "markdown",
   "id": "0207f12c",
   "metadata": {},
   "source": [
    "# next classification algo that we r refering named as ada boost means adaptor boosting classifer algo"
   ]
  },
  {
   "cell_type": "code",
   "execution_count": 72,
   "id": "a821d80d",
   "metadata": {},
   "outputs": [
    {
     "data": {
      "text/plain": [
       "\"for i in range(9,0,-1):\\n    #creating an object of AdaBoostClassifier class\\n    ada=AdaBoostClassifier(n_estimators=i,random_state=1)\\n    print('at what no of decision stump',i)\\n    #calling the function\\n    ada=function(ada)\\n    ada\\n    print()\""
      ]
     },
     "execution_count": 72,
     "metadata": {},
     "output_type": "execute_result"
    }
   ],
   "source": [
    "#it create a decision stump (means 1 root node and 2 leaf node...according to the ig value\n",
    "#by coming out from entropy or gini index...and creating stump of its it referd as weak learner)\n",
    "#lly this weak learner process will repeat to others features also ....\n",
    "#when all the weak learner together refered as strong learner\n",
    "#at we r finding at what no of decisionstump(features)\n",
    "#we r getting accuracy of model good compare to others\n",
    "#preparing the model by using ada boost classifier algo\n",
    "#so calling the class\n",
    "from sklearn.ensemble import AdaBoostClassifier\n",
    "#so its hit and trial method\n",
    "'''for i in range(9,0,-1):\n",
    "    #creating an object of AdaBoostClassifier class\n",
    "    ada=AdaBoostClassifier(n_estimators=i,random_state=1)\n",
    "    print('at what no of decision stump',i)\n",
    "    #calling the function\n",
    "    ada=function(ada)\n",
    "    ada\n",
    "    print()'''\n",
    "#below result we can conclude at 5 no of feature or decision stump\n",
    "#we r getting recal accuracy good compare to others"
   ]
  },
  {
   "cell_type": "code",
   "execution_count": 73,
   "id": "52b18f60",
   "metadata": {},
   "outputs": [
    {
     "name": "stdout",
     "output_type": "stream",
     "text": [
      "              precision    recall  f1-score   support\n",
      "\n",
      "           0       0.61      0.88      0.72       585\n",
      "           1       0.50      0.18      0.26       398\n",
      "\n",
      "    accuracy                           0.60       983\n",
      "   macro avg       0.56      0.53      0.49       983\n",
      "weighted avg       0.57      0.60      0.53       983\n",
      "\n",
      "[[515  70]\n",
      " [328  70]]\n"
     ]
    }
   ],
   "source": [
    "#creating an object of AdaBoostClassifier class\n",
    "ada=AdaBoostClassifier(n_estimators=5,random_state=1)\n",
    "#calling the function\n",
    "ada=function(ada)"
   ]
  },
  {
   "cell_type": "markdown",
   "id": "b1471d89",
   "metadata": {},
   "source": [
    "# next classification algo that we r refering named as gradientboostingclassifier algo part of ensembling technique"
   ]
  },
  {
   "cell_type": "code",
   "execution_count": 74,
   "id": "f9304c0b",
   "metadata": {},
   "outputs": [],
   "source": [
    "#it create full grown tree \n",
    "#(decisiontree according to the ig value which is coming out either by entropyor gini index)\n",
    "#and focusing short coming errors (means residual or misclassiifed error on 2nd iteration of dt)\n",
    "#min dt>=10 and dt max<=100\n",
    "#so its a hit and trial method\n",
    "#and we r finding out at what no of dt we r getting accuracy of model good comare to others"
   ]
  },
  {
   "cell_type": "code",
   "execution_count": 76,
   "id": "19ac8895",
   "metadata": {},
   "outputs": [
    {
     "data": {
      "text/plain": [
       "\"for i in range(10,101,1):\\n    #creating an object of gbc class\\n    gbc=GradientBoostingClassifier(n_estimators=i,random_state=1)\\n    print('no of dt',i)\\n    #calling the function\\n    gbc=function(gbc)\\n    gbc\\n    print()\""
      ]
     },
     "execution_count": 76,
     "metadata": {},
     "output_type": "execute_result"
    }
   ],
   "source": [
    "#preparing the model by using gradientbosstingclassifer algo \n",
    "#calling the class\n",
    "from sklearn.ensemble import GradientBoostingClassifier\n",
    "#so hit and trial method\n",
    "'''for i in range(10,101,1):\n",
    "    #creating an object of gbc class\n",
    "    gbc=GradientBoostingClassifier(n_estimators=i,random_state=1)\n",
    "    print('no of dt',i)\n",
    "    #calling the function\n",
    "    gbc=function(gbc)\n",
    "    gbc\n",
    "    print()'''\n",
    "#below result we can conclude that at 10 no of dt we r getting recall accuracy compare to others"
   ]
  },
  {
   "cell_type": "code",
   "execution_count": 77,
   "id": "a4925d99",
   "metadata": {},
   "outputs": [
    {
     "name": "stdout",
     "output_type": "stream",
     "text": [
      "              precision    recall  f1-score   support\n",
      "\n",
      "           0       0.62      0.95      0.75       585\n",
      "           1       0.66      0.14      0.24       398\n",
      "\n",
      "    accuracy                           0.62       983\n",
      "   macro avg       0.64      0.55      0.49       983\n",
      "weighted avg       0.63      0.62      0.54       983\n",
      "\n",
      "[[555  30]\n",
      " [341  57]]\n"
     ]
    },
    {
     "data": {
      "text/html": [
       "<style>#sk-container-id-1 {color: black;background-color: white;}#sk-container-id-1 pre{padding: 0;}#sk-container-id-1 div.sk-toggleable {background-color: white;}#sk-container-id-1 label.sk-toggleable__label {cursor: pointer;display: block;width: 100%;margin-bottom: 0;padding: 0.3em;box-sizing: border-box;text-align: center;}#sk-container-id-1 label.sk-toggleable__label-arrow:before {content: \"▸\";float: left;margin-right: 0.25em;color: #696969;}#sk-container-id-1 label.sk-toggleable__label-arrow:hover:before {color: black;}#sk-container-id-1 div.sk-estimator:hover label.sk-toggleable__label-arrow:before {color: black;}#sk-container-id-1 div.sk-toggleable__content {max-height: 0;max-width: 0;overflow: hidden;text-align: left;background-color: #f0f8ff;}#sk-container-id-1 div.sk-toggleable__content pre {margin: 0.2em;color: black;border-radius: 0.25em;background-color: #f0f8ff;}#sk-container-id-1 input.sk-toggleable__control:checked~div.sk-toggleable__content {max-height: 200px;max-width: 100%;overflow: auto;}#sk-container-id-1 input.sk-toggleable__control:checked~label.sk-toggleable__label-arrow:before {content: \"▾\";}#sk-container-id-1 div.sk-estimator input.sk-toggleable__control:checked~label.sk-toggleable__label {background-color: #d4ebff;}#sk-container-id-1 div.sk-label input.sk-toggleable__control:checked~label.sk-toggleable__label {background-color: #d4ebff;}#sk-container-id-1 input.sk-hidden--visually {border: 0;clip: rect(1px 1px 1px 1px);clip: rect(1px, 1px, 1px, 1px);height: 1px;margin: -1px;overflow: hidden;padding: 0;position: absolute;width: 1px;}#sk-container-id-1 div.sk-estimator {font-family: monospace;background-color: #f0f8ff;border: 1px dotted black;border-radius: 0.25em;box-sizing: border-box;margin-bottom: 0.5em;}#sk-container-id-1 div.sk-estimator:hover {background-color: #d4ebff;}#sk-container-id-1 div.sk-parallel-item::after {content: \"\";width: 100%;border-bottom: 1px solid gray;flex-grow: 1;}#sk-container-id-1 div.sk-label:hover label.sk-toggleable__label {background-color: #d4ebff;}#sk-container-id-1 div.sk-serial::before {content: \"\";position: absolute;border-left: 1px solid gray;box-sizing: border-box;top: 0;bottom: 0;left: 50%;z-index: 0;}#sk-container-id-1 div.sk-serial {display: flex;flex-direction: column;align-items: center;background-color: white;padding-right: 0.2em;padding-left: 0.2em;position: relative;}#sk-container-id-1 div.sk-item {position: relative;z-index: 1;}#sk-container-id-1 div.sk-parallel {display: flex;align-items: stretch;justify-content: center;background-color: white;position: relative;}#sk-container-id-1 div.sk-item::before, #sk-container-id-1 div.sk-parallel-item::before {content: \"\";position: absolute;border-left: 1px solid gray;box-sizing: border-box;top: 0;bottom: 0;left: 50%;z-index: -1;}#sk-container-id-1 div.sk-parallel-item {display: flex;flex-direction: column;z-index: 1;position: relative;background-color: white;}#sk-container-id-1 div.sk-parallel-item:first-child::after {align-self: flex-end;width: 50%;}#sk-container-id-1 div.sk-parallel-item:last-child::after {align-self: flex-start;width: 50%;}#sk-container-id-1 div.sk-parallel-item:only-child::after {width: 0;}#sk-container-id-1 div.sk-dashed-wrapped {border: 1px dashed gray;margin: 0 0.4em 0.5em 0.4em;box-sizing: border-box;padding-bottom: 0.4em;background-color: white;}#sk-container-id-1 div.sk-label label {font-family: monospace;font-weight: bold;display: inline-block;line-height: 1.2em;}#sk-container-id-1 div.sk-label-container {text-align: center;}#sk-container-id-1 div.sk-container {/* jupyter's `normalize.less` sets `[hidden] { display: none; }` but bootstrap.min.css set `[hidden] { display: none !important; }` so we also need the `!important` here to be able to override the default hidden behavior on the sphinx rendered scikit-learn.org. See: https://github.com/scikit-learn/scikit-learn/issues/21755 */display: inline-block !important;position: relative;}#sk-container-id-1 div.sk-text-repr-fallback {display: none;}</style><div id=\"sk-container-id-1\" class=\"sk-top-container\"><div class=\"sk-text-repr-fallback\"><pre>GradientBoostingClassifier(n_estimators=10, random_state=1)</pre><b>In a Jupyter environment, please rerun this cell to show the HTML representation or trust the notebook. <br />On GitHub, the HTML representation is unable to render, please try loading this page with nbviewer.org.</b></div><div class=\"sk-container\" hidden><div class=\"sk-item\"><div class=\"sk-estimator sk-toggleable\"><input class=\"sk-toggleable__control sk-hidden--visually\" id=\"sk-estimator-id-1\" type=\"checkbox\" checked><label for=\"sk-estimator-id-1\" class=\"sk-toggleable__label sk-toggleable__label-arrow\">GradientBoostingClassifier</label><div class=\"sk-toggleable__content\"><pre>GradientBoostingClassifier(n_estimators=10, random_state=1)</pre></div></div></div></div></div>"
      ],
      "text/plain": [
       "GradientBoostingClassifier(n_estimators=10, random_state=1)"
      ]
     },
     "execution_count": 77,
     "metadata": {},
     "output_type": "execute_result"
    }
   ],
   "source": [
    "#creating an object of gbc class\n",
    "gbc=GradientBoostingClassifier(n_estimators=10,random_state=1)\n",
    "#calling the function\n",
    "gbc=function(gbc)\n",
    "gbc"
   ]
  },
  {
   "cell_type": "markdown",
   "id": "9460ce1b",
   "metadata": {},
   "source": [
    "# next classification algo that we r refering named as extremegradientboosting algo"
   ]
  },
  {
   "cell_type": "code",
   "execution_count": 79,
   "id": "6b1955bc",
   "metadata": {},
   "outputs": [
    {
     "data": {
      "text/plain": [
       "\"for i in range(10,101,1):\\n    #creating an object of gbc class\\n    xgb=XGBClassifier(n_estimators=i,reg_alpha=1,random_state=1)\\n    #reg_alpha means it prevent from overfitting the model\\n    print('no of dt',i)\\n    #calling the function\\n    xgb=function(xgb)\\n    xgb\\n    print()\""
      ]
     },
     "execution_count": 79,
     "metadata": {},
     "output_type": "execute_result"
    }
   ],
   "source": [
    "#preparing the model by using extremegradientboosting algo\n",
    "#so calling the class\n",
    "from xgboost import XGBClassifier\n",
    "#so hit and trial method\n",
    "'''for i in range(10,101,1):\n",
    "    #creating an object of gbc class\n",
    "    xgb=XGBClassifier(n_estimators=i,reg_alpha=1,random_state=1)\n",
    "    #reg_alpha means it prevent from overfitting the model\n",
    "    print('no of dt',i)\n",
    "    #calling the function\n",
    "    xgb=function(xgb)\n",
    "    xgb\n",
    "    print()'''\n",
    "#below result we can conclude that at 19 no of dt we r getting recall accuracy good compare to others"
   ]
  },
  {
   "cell_type": "code",
   "execution_count": 80,
   "id": "f89095a7",
   "metadata": {},
   "outputs": [
    {
     "name": "stdout",
     "output_type": "stream",
     "text": [
      "              precision    recall  f1-score   support\n",
      "\n",
      "           0       0.65      0.85      0.73       585\n",
      "           1       0.59      0.33      0.42       398\n",
      "\n",
      "    accuracy                           0.64       983\n",
      "   macro avg       0.62      0.59      0.58       983\n",
      "weighted avg       0.63      0.64      0.61       983\n",
      "\n",
      "[[495  90]\n",
      " [267 131]]\n"
     ]
    },
    {
     "data": {
      "text/html": [
       "<style>#sk-container-id-2 {color: black;background-color: white;}#sk-container-id-2 pre{padding: 0;}#sk-container-id-2 div.sk-toggleable {background-color: white;}#sk-container-id-2 label.sk-toggleable__label {cursor: pointer;display: block;width: 100%;margin-bottom: 0;padding: 0.3em;box-sizing: border-box;text-align: center;}#sk-container-id-2 label.sk-toggleable__label-arrow:before {content: \"▸\";float: left;margin-right: 0.25em;color: #696969;}#sk-container-id-2 label.sk-toggleable__label-arrow:hover:before {color: black;}#sk-container-id-2 div.sk-estimator:hover label.sk-toggleable__label-arrow:before {color: black;}#sk-container-id-2 div.sk-toggleable__content {max-height: 0;max-width: 0;overflow: hidden;text-align: left;background-color: #f0f8ff;}#sk-container-id-2 div.sk-toggleable__content pre {margin: 0.2em;color: black;border-radius: 0.25em;background-color: #f0f8ff;}#sk-container-id-2 input.sk-toggleable__control:checked~div.sk-toggleable__content {max-height: 200px;max-width: 100%;overflow: auto;}#sk-container-id-2 input.sk-toggleable__control:checked~label.sk-toggleable__label-arrow:before {content: \"▾\";}#sk-container-id-2 div.sk-estimator input.sk-toggleable__control:checked~label.sk-toggleable__label {background-color: #d4ebff;}#sk-container-id-2 div.sk-label input.sk-toggleable__control:checked~label.sk-toggleable__label {background-color: #d4ebff;}#sk-container-id-2 input.sk-hidden--visually {border: 0;clip: rect(1px 1px 1px 1px);clip: rect(1px, 1px, 1px, 1px);height: 1px;margin: -1px;overflow: hidden;padding: 0;position: absolute;width: 1px;}#sk-container-id-2 div.sk-estimator {font-family: monospace;background-color: #f0f8ff;border: 1px dotted black;border-radius: 0.25em;box-sizing: border-box;margin-bottom: 0.5em;}#sk-container-id-2 div.sk-estimator:hover {background-color: #d4ebff;}#sk-container-id-2 div.sk-parallel-item::after {content: \"\";width: 100%;border-bottom: 1px solid gray;flex-grow: 1;}#sk-container-id-2 div.sk-label:hover label.sk-toggleable__label {background-color: #d4ebff;}#sk-container-id-2 div.sk-serial::before {content: \"\";position: absolute;border-left: 1px solid gray;box-sizing: border-box;top: 0;bottom: 0;left: 50%;z-index: 0;}#sk-container-id-2 div.sk-serial {display: flex;flex-direction: column;align-items: center;background-color: white;padding-right: 0.2em;padding-left: 0.2em;position: relative;}#sk-container-id-2 div.sk-item {position: relative;z-index: 1;}#sk-container-id-2 div.sk-parallel {display: flex;align-items: stretch;justify-content: center;background-color: white;position: relative;}#sk-container-id-2 div.sk-item::before, #sk-container-id-2 div.sk-parallel-item::before {content: \"\";position: absolute;border-left: 1px solid gray;box-sizing: border-box;top: 0;bottom: 0;left: 50%;z-index: -1;}#sk-container-id-2 div.sk-parallel-item {display: flex;flex-direction: column;z-index: 1;position: relative;background-color: white;}#sk-container-id-2 div.sk-parallel-item:first-child::after {align-self: flex-end;width: 50%;}#sk-container-id-2 div.sk-parallel-item:last-child::after {align-self: flex-start;width: 50%;}#sk-container-id-2 div.sk-parallel-item:only-child::after {width: 0;}#sk-container-id-2 div.sk-dashed-wrapped {border: 1px dashed gray;margin: 0 0.4em 0.5em 0.4em;box-sizing: border-box;padding-bottom: 0.4em;background-color: white;}#sk-container-id-2 div.sk-label label {font-family: monospace;font-weight: bold;display: inline-block;line-height: 1.2em;}#sk-container-id-2 div.sk-label-container {text-align: center;}#sk-container-id-2 div.sk-container {/* jupyter's `normalize.less` sets `[hidden] { display: none; }` but bootstrap.min.css set `[hidden] { display: none !important; }` so we also need the `!important` here to be able to override the default hidden behavior on the sphinx rendered scikit-learn.org. See: https://github.com/scikit-learn/scikit-learn/issues/21755 */display: inline-block !important;position: relative;}#sk-container-id-2 div.sk-text-repr-fallback {display: none;}</style><div id=\"sk-container-id-2\" class=\"sk-top-container\"><div class=\"sk-text-repr-fallback\"><pre>XGBClassifier(base_score=0.5, booster=&#x27;gbtree&#x27;, callbacks=None,\n",
       "              colsample_bylevel=1, colsample_bynode=1, colsample_bytree=1,\n",
       "              early_stopping_rounds=None, enable_categorical=False,\n",
       "              eval_metric=None, gamma=0, gpu_id=-1, grow_policy=&#x27;depthwise&#x27;,\n",
       "              importance_type=None, interaction_constraints=&#x27;&#x27;,\n",
       "              learning_rate=0.300000012, max_bin=256, max_cat_to_onehot=4,\n",
       "              max_delta_step=0, max_depth=6, max_leaves=0, min_child_weight=1,\n",
       "              missing=nan, monotone_constraints=&#x27;()&#x27;, n_estimators=19, n_jobs=0,\n",
       "              num_parallel_tree=1, predictor=&#x27;auto&#x27;, random_state=1,\n",
       "              reg_alpha=1, reg_lambda=1, ...)</pre><b>In a Jupyter environment, please rerun this cell to show the HTML representation or trust the notebook. <br />On GitHub, the HTML representation is unable to render, please try loading this page with nbviewer.org.</b></div><div class=\"sk-container\" hidden><div class=\"sk-item\"><div class=\"sk-estimator sk-toggleable\"><input class=\"sk-toggleable__control sk-hidden--visually\" id=\"sk-estimator-id-2\" type=\"checkbox\" checked><label for=\"sk-estimator-id-2\" class=\"sk-toggleable__label sk-toggleable__label-arrow\">XGBClassifier</label><div class=\"sk-toggleable__content\"><pre>XGBClassifier(base_score=0.5, booster=&#x27;gbtree&#x27;, callbacks=None,\n",
       "              colsample_bylevel=1, colsample_bynode=1, colsample_bytree=1,\n",
       "              early_stopping_rounds=None, enable_categorical=False,\n",
       "              eval_metric=None, gamma=0, gpu_id=-1, grow_policy=&#x27;depthwise&#x27;,\n",
       "              importance_type=None, interaction_constraints=&#x27;&#x27;,\n",
       "              learning_rate=0.300000012, max_bin=256, max_cat_to_onehot=4,\n",
       "              max_delta_step=0, max_depth=6, max_leaves=0, min_child_weight=1,\n",
       "              missing=nan, monotone_constraints=&#x27;()&#x27;, n_estimators=19, n_jobs=0,\n",
       "              num_parallel_tree=1, predictor=&#x27;auto&#x27;, random_state=1,\n",
       "              reg_alpha=1, reg_lambda=1, ...)</pre></div></div></div></div></div>"
      ],
      "text/plain": [
       "XGBClassifier(base_score=0.5, booster='gbtree', callbacks=None,\n",
       "              colsample_bylevel=1, colsample_bynode=1, colsample_bytree=1,\n",
       "              early_stopping_rounds=None, enable_categorical=False,\n",
       "              eval_metric=None, gamma=0, gpu_id=-1, grow_policy='depthwise',\n",
       "              importance_type=None, interaction_constraints='',\n",
       "              learning_rate=0.300000012, max_bin=256, max_cat_to_onehot=4,\n",
       "              max_delta_step=0, max_depth=6, max_leaves=0, min_child_weight=1,\n",
       "              missing=nan, monotone_constraints='()', n_estimators=19, n_jobs=0,\n",
       "              num_parallel_tree=1, predictor='auto', random_state=1,\n",
       "              reg_alpha=1, reg_lambda=1, ...)"
      ]
     },
     "execution_count": 80,
     "metadata": {},
     "output_type": "execute_result"
    }
   ],
   "source": [
    "#creating an object of gbc class\n",
    "xgb=XGBClassifier(n_estimators=19,reg_alpha=1,random_state=1)\n",
    "#calling the function\n",
    "xgb=function(xgb)\n",
    "xgb"
   ]
  },
  {
   "cell_type": "markdown",
   "id": "1349a6a2",
   "metadata": {},
   "source": [
    "conclusion:- in ensembling technique the best algo for this given\n",
    "datset is extremegradientboosting algorithm"
   ]
  },
  {
   "cell_type": "markdown",
   "id": "034431fe",
   "metadata": {},
   "source": [
    "# next classification algo we refering named as svm algo"
   ]
  },
  {
   "cell_type": "code",
   "execution_count": null,
   "id": "0340d91f",
   "metadata": {},
   "outputs": [],
   "source": [
    "#support vector machine depend upon quality of data are 2 type\n",
    "#1. linear seperatable data\n",
    "#(if outlier present at training time we add some external error to avoid overfitting \n",
    "#model c=0.001 to 1 range lie) if accuracy of model didnt change after adding error\n",
    "#it means the data quality is non-linear seperatable data\n",
    "#2.non linear seperatable data (we use kernel function polynomial or radiabasis)\n"
   ]
  },
  {
   "cell_type": "code",
   "execution_count": 81,
   "id": "3caeb832",
   "metadata": {},
   "outputs": [
    {
     "name": "stdout",
     "output_type": "stream",
     "text": [
      "              precision    recall  f1-score   support\n",
      "\n",
      "           0       0.60      1.00      0.75       585\n",
      "           1       0.00      0.00      0.00       398\n",
      "\n",
      "    accuracy                           0.60       983\n",
      "   macro avg       0.30      0.50      0.37       983\n",
      "weighted avg       0.35      0.60      0.44       983\n",
      "\n",
      "[[585   0]\n",
      " [398   0]]\n"
     ]
    },
    {
     "data": {
      "text/html": [
       "<style>#sk-container-id-3 {color: black;background-color: white;}#sk-container-id-3 pre{padding: 0;}#sk-container-id-3 div.sk-toggleable {background-color: white;}#sk-container-id-3 label.sk-toggleable__label {cursor: pointer;display: block;width: 100%;margin-bottom: 0;padding: 0.3em;box-sizing: border-box;text-align: center;}#sk-container-id-3 label.sk-toggleable__label-arrow:before {content: \"▸\";float: left;margin-right: 0.25em;color: #696969;}#sk-container-id-3 label.sk-toggleable__label-arrow:hover:before {color: black;}#sk-container-id-3 div.sk-estimator:hover label.sk-toggleable__label-arrow:before {color: black;}#sk-container-id-3 div.sk-toggleable__content {max-height: 0;max-width: 0;overflow: hidden;text-align: left;background-color: #f0f8ff;}#sk-container-id-3 div.sk-toggleable__content pre {margin: 0.2em;color: black;border-radius: 0.25em;background-color: #f0f8ff;}#sk-container-id-3 input.sk-toggleable__control:checked~div.sk-toggleable__content {max-height: 200px;max-width: 100%;overflow: auto;}#sk-container-id-3 input.sk-toggleable__control:checked~label.sk-toggleable__label-arrow:before {content: \"▾\";}#sk-container-id-3 div.sk-estimator input.sk-toggleable__control:checked~label.sk-toggleable__label {background-color: #d4ebff;}#sk-container-id-3 div.sk-label input.sk-toggleable__control:checked~label.sk-toggleable__label {background-color: #d4ebff;}#sk-container-id-3 input.sk-hidden--visually {border: 0;clip: rect(1px 1px 1px 1px);clip: rect(1px, 1px, 1px, 1px);height: 1px;margin: -1px;overflow: hidden;padding: 0;position: absolute;width: 1px;}#sk-container-id-3 div.sk-estimator {font-family: monospace;background-color: #f0f8ff;border: 1px dotted black;border-radius: 0.25em;box-sizing: border-box;margin-bottom: 0.5em;}#sk-container-id-3 div.sk-estimator:hover {background-color: #d4ebff;}#sk-container-id-3 div.sk-parallel-item::after {content: \"\";width: 100%;border-bottom: 1px solid gray;flex-grow: 1;}#sk-container-id-3 div.sk-label:hover label.sk-toggleable__label {background-color: #d4ebff;}#sk-container-id-3 div.sk-serial::before {content: \"\";position: absolute;border-left: 1px solid gray;box-sizing: border-box;top: 0;bottom: 0;left: 50%;z-index: 0;}#sk-container-id-3 div.sk-serial {display: flex;flex-direction: column;align-items: center;background-color: white;padding-right: 0.2em;padding-left: 0.2em;position: relative;}#sk-container-id-3 div.sk-item {position: relative;z-index: 1;}#sk-container-id-3 div.sk-parallel {display: flex;align-items: stretch;justify-content: center;background-color: white;position: relative;}#sk-container-id-3 div.sk-item::before, #sk-container-id-3 div.sk-parallel-item::before {content: \"\";position: absolute;border-left: 1px solid gray;box-sizing: border-box;top: 0;bottom: 0;left: 50%;z-index: -1;}#sk-container-id-3 div.sk-parallel-item {display: flex;flex-direction: column;z-index: 1;position: relative;background-color: white;}#sk-container-id-3 div.sk-parallel-item:first-child::after {align-self: flex-end;width: 50%;}#sk-container-id-3 div.sk-parallel-item:last-child::after {align-self: flex-start;width: 50%;}#sk-container-id-3 div.sk-parallel-item:only-child::after {width: 0;}#sk-container-id-3 div.sk-dashed-wrapped {border: 1px dashed gray;margin: 0 0.4em 0.5em 0.4em;box-sizing: border-box;padding-bottom: 0.4em;background-color: white;}#sk-container-id-3 div.sk-label label {font-family: monospace;font-weight: bold;display: inline-block;line-height: 1.2em;}#sk-container-id-3 div.sk-label-container {text-align: center;}#sk-container-id-3 div.sk-container {/* jupyter's `normalize.less` sets `[hidden] { display: none; }` but bootstrap.min.css set `[hidden] { display: none !important; }` so we also need the `!important` here to be able to override the default hidden behavior on the sphinx rendered scikit-learn.org. See: https://github.com/scikit-learn/scikit-learn/issues/21755 */display: inline-block !important;position: relative;}#sk-container-id-3 div.sk-text-repr-fallback {display: none;}</style><div id=\"sk-container-id-3\" class=\"sk-top-container\"><div class=\"sk-text-repr-fallback\"><pre>LinearSVC(random_state=1)</pre><b>In a Jupyter environment, please rerun this cell to show the HTML representation or trust the notebook. <br />On GitHub, the HTML representation is unable to render, please try loading this page with nbviewer.org.</b></div><div class=\"sk-container\" hidden><div class=\"sk-item\"><div class=\"sk-estimator sk-toggleable\"><input class=\"sk-toggleable__control sk-hidden--visually\" id=\"sk-estimator-id-3\" type=\"checkbox\" checked><label for=\"sk-estimator-id-3\" class=\"sk-toggleable__label sk-toggleable__label-arrow\">LinearSVC</label><div class=\"sk-toggleable__content\"><pre>LinearSVC(random_state=1)</pre></div></div></div></div></div>"
      ],
      "text/plain": [
       "LinearSVC(random_state=1)"
      ]
     },
     "execution_count": 81,
     "metadata": {},
     "output_type": "execute_result"
    }
   ],
   "source": [
    "#preparing the model by using svm algo\n",
    "from sklearn.svm import LinearSVC\n",
    "#creating an object of LinearSVC class\n",
    "svc1=LinearSVC(random_state=1)\n",
    "#calling the function\n",
    "svc1=function(svc1)\n",
    "svc1"
   ]
  },
  {
   "cell_type": "code",
   "execution_count": null,
   "id": "89b9b875",
   "metadata": {},
   "outputs": [],
   "source": [
    "#now adding some external error btn c=0.001 to 1...\n",
    "#at training time and checking accuracy change or not\n",
    "#if not change means ....data is non linear seperatable\n",
    "#if change than it means data is linear seperatable"
   ]
  },
  {
   "cell_type": "code",
   "execution_count": 82,
   "id": "ef737e8a",
   "metadata": {},
   "outputs": [
    {
     "name": "stdout",
     "output_type": "stream",
     "text": [
      "              precision    recall  f1-score   support\n",
      "\n",
      "           0       0.60      1.00      0.75       585\n",
      "           1       0.00      0.00      0.00       398\n",
      "\n",
      "    accuracy                           0.60       983\n",
      "   macro avg       0.30      0.50      0.37       983\n",
      "weighted avg       0.35      0.60      0.44       983\n",
      "\n",
      "[[585   0]\n",
      " [398   0]]\n"
     ]
    },
    {
     "data": {
      "text/html": [
       "<style>#sk-container-id-4 {color: black;background-color: white;}#sk-container-id-4 pre{padding: 0;}#sk-container-id-4 div.sk-toggleable {background-color: white;}#sk-container-id-4 label.sk-toggleable__label {cursor: pointer;display: block;width: 100%;margin-bottom: 0;padding: 0.3em;box-sizing: border-box;text-align: center;}#sk-container-id-4 label.sk-toggleable__label-arrow:before {content: \"▸\";float: left;margin-right: 0.25em;color: #696969;}#sk-container-id-4 label.sk-toggleable__label-arrow:hover:before {color: black;}#sk-container-id-4 div.sk-estimator:hover label.sk-toggleable__label-arrow:before {color: black;}#sk-container-id-4 div.sk-toggleable__content {max-height: 0;max-width: 0;overflow: hidden;text-align: left;background-color: #f0f8ff;}#sk-container-id-4 div.sk-toggleable__content pre {margin: 0.2em;color: black;border-radius: 0.25em;background-color: #f0f8ff;}#sk-container-id-4 input.sk-toggleable__control:checked~div.sk-toggleable__content {max-height: 200px;max-width: 100%;overflow: auto;}#sk-container-id-4 input.sk-toggleable__control:checked~label.sk-toggleable__label-arrow:before {content: \"▾\";}#sk-container-id-4 div.sk-estimator input.sk-toggleable__control:checked~label.sk-toggleable__label {background-color: #d4ebff;}#sk-container-id-4 div.sk-label input.sk-toggleable__control:checked~label.sk-toggleable__label {background-color: #d4ebff;}#sk-container-id-4 input.sk-hidden--visually {border: 0;clip: rect(1px 1px 1px 1px);clip: rect(1px, 1px, 1px, 1px);height: 1px;margin: -1px;overflow: hidden;padding: 0;position: absolute;width: 1px;}#sk-container-id-4 div.sk-estimator {font-family: monospace;background-color: #f0f8ff;border: 1px dotted black;border-radius: 0.25em;box-sizing: border-box;margin-bottom: 0.5em;}#sk-container-id-4 div.sk-estimator:hover {background-color: #d4ebff;}#sk-container-id-4 div.sk-parallel-item::after {content: \"\";width: 100%;border-bottom: 1px solid gray;flex-grow: 1;}#sk-container-id-4 div.sk-label:hover label.sk-toggleable__label {background-color: #d4ebff;}#sk-container-id-4 div.sk-serial::before {content: \"\";position: absolute;border-left: 1px solid gray;box-sizing: border-box;top: 0;bottom: 0;left: 50%;z-index: 0;}#sk-container-id-4 div.sk-serial {display: flex;flex-direction: column;align-items: center;background-color: white;padding-right: 0.2em;padding-left: 0.2em;position: relative;}#sk-container-id-4 div.sk-item {position: relative;z-index: 1;}#sk-container-id-4 div.sk-parallel {display: flex;align-items: stretch;justify-content: center;background-color: white;position: relative;}#sk-container-id-4 div.sk-item::before, #sk-container-id-4 div.sk-parallel-item::before {content: \"\";position: absolute;border-left: 1px solid gray;box-sizing: border-box;top: 0;bottom: 0;left: 50%;z-index: -1;}#sk-container-id-4 div.sk-parallel-item {display: flex;flex-direction: column;z-index: 1;position: relative;background-color: white;}#sk-container-id-4 div.sk-parallel-item:first-child::after {align-self: flex-end;width: 50%;}#sk-container-id-4 div.sk-parallel-item:last-child::after {align-self: flex-start;width: 50%;}#sk-container-id-4 div.sk-parallel-item:only-child::after {width: 0;}#sk-container-id-4 div.sk-dashed-wrapped {border: 1px dashed gray;margin: 0 0.4em 0.5em 0.4em;box-sizing: border-box;padding-bottom: 0.4em;background-color: white;}#sk-container-id-4 div.sk-label label {font-family: monospace;font-weight: bold;display: inline-block;line-height: 1.2em;}#sk-container-id-4 div.sk-label-container {text-align: center;}#sk-container-id-4 div.sk-container {/* jupyter's `normalize.less` sets `[hidden] { display: none; }` but bootstrap.min.css set `[hidden] { display: none !important; }` so we also need the `!important` here to be able to override the default hidden behavior on the sphinx rendered scikit-learn.org. See: https://github.com/scikit-learn/scikit-learn/issues/21755 */display: inline-block !important;position: relative;}#sk-container-id-4 div.sk-text-repr-fallback {display: none;}</style><div id=\"sk-container-id-4\" class=\"sk-top-container\"><div class=\"sk-text-repr-fallback\"><pre>LinearSVC(C=0.9, random_state=1)</pre><b>In a Jupyter environment, please rerun this cell to show the HTML representation or trust the notebook. <br />On GitHub, the HTML representation is unable to render, please try loading this page with nbviewer.org.</b></div><div class=\"sk-container\" hidden><div class=\"sk-item\"><div class=\"sk-estimator sk-toggleable\"><input class=\"sk-toggleable__control sk-hidden--visually\" id=\"sk-estimator-id-4\" type=\"checkbox\" checked><label for=\"sk-estimator-id-4\" class=\"sk-toggleable__label sk-toggleable__label-arrow\">LinearSVC</label><div class=\"sk-toggleable__content\"><pre>LinearSVC(C=0.9, random_state=1)</pre></div></div></div></div></div>"
      ],
      "text/plain": [
       "LinearSVC(C=0.9, random_state=1)"
      ]
     },
     "execution_count": 82,
     "metadata": {},
     "output_type": "execute_result"
    }
   ],
   "source": [
    "#creating an object of LinearSVC class\n",
    "svc1=LinearSVC(random_state=1,C=0.90)\n",
    "#calling the function\n",
    "svc1=function(svc1)\n",
    "svc1\n",
    "#below result we can conclude that the data is non linear seperatable"
   ]
  },
  {
   "cell_type": "code",
   "execution_count": 83,
   "id": "fbcec0b1",
   "metadata": {},
   "outputs": [
    {
     "name": "stdout",
     "output_type": "stream",
     "text": [
      "              precision    recall  f1-score   support\n",
      "\n",
      "           0       0.61      0.99      0.75       585\n",
      "           1       0.78      0.06      0.12       398\n",
      "\n",
      "    accuracy                           0.61       983\n",
      "   macro avg       0.69      0.53      0.43       983\n",
      "weighted avg       0.68      0.61      0.49       983\n",
      "\n",
      "[[578   7]\n",
      " [373  25]]\n"
     ]
    },
    {
     "data": {
      "text/html": [
       "<style>#sk-container-id-5 {color: black;background-color: white;}#sk-container-id-5 pre{padding: 0;}#sk-container-id-5 div.sk-toggleable {background-color: white;}#sk-container-id-5 label.sk-toggleable__label {cursor: pointer;display: block;width: 100%;margin-bottom: 0;padding: 0.3em;box-sizing: border-box;text-align: center;}#sk-container-id-5 label.sk-toggleable__label-arrow:before {content: \"▸\";float: left;margin-right: 0.25em;color: #696969;}#sk-container-id-5 label.sk-toggleable__label-arrow:hover:before {color: black;}#sk-container-id-5 div.sk-estimator:hover label.sk-toggleable__label-arrow:before {color: black;}#sk-container-id-5 div.sk-toggleable__content {max-height: 0;max-width: 0;overflow: hidden;text-align: left;background-color: #f0f8ff;}#sk-container-id-5 div.sk-toggleable__content pre {margin: 0.2em;color: black;border-radius: 0.25em;background-color: #f0f8ff;}#sk-container-id-5 input.sk-toggleable__control:checked~div.sk-toggleable__content {max-height: 200px;max-width: 100%;overflow: auto;}#sk-container-id-5 input.sk-toggleable__control:checked~label.sk-toggleable__label-arrow:before {content: \"▾\";}#sk-container-id-5 div.sk-estimator input.sk-toggleable__control:checked~label.sk-toggleable__label {background-color: #d4ebff;}#sk-container-id-5 div.sk-label input.sk-toggleable__control:checked~label.sk-toggleable__label {background-color: #d4ebff;}#sk-container-id-5 input.sk-hidden--visually {border: 0;clip: rect(1px 1px 1px 1px);clip: rect(1px, 1px, 1px, 1px);height: 1px;margin: -1px;overflow: hidden;padding: 0;position: absolute;width: 1px;}#sk-container-id-5 div.sk-estimator {font-family: monospace;background-color: #f0f8ff;border: 1px dotted black;border-radius: 0.25em;box-sizing: border-box;margin-bottom: 0.5em;}#sk-container-id-5 div.sk-estimator:hover {background-color: #d4ebff;}#sk-container-id-5 div.sk-parallel-item::after {content: \"\";width: 100%;border-bottom: 1px solid gray;flex-grow: 1;}#sk-container-id-5 div.sk-label:hover label.sk-toggleable__label {background-color: #d4ebff;}#sk-container-id-5 div.sk-serial::before {content: \"\";position: absolute;border-left: 1px solid gray;box-sizing: border-box;top: 0;bottom: 0;left: 50%;z-index: 0;}#sk-container-id-5 div.sk-serial {display: flex;flex-direction: column;align-items: center;background-color: white;padding-right: 0.2em;padding-left: 0.2em;position: relative;}#sk-container-id-5 div.sk-item {position: relative;z-index: 1;}#sk-container-id-5 div.sk-parallel {display: flex;align-items: stretch;justify-content: center;background-color: white;position: relative;}#sk-container-id-5 div.sk-item::before, #sk-container-id-5 div.sk-parallel-item::before {content: \"\";position: absolute;border-left: 1px solid gray;box-sizing: border-box;top: 0;bottom: 0;left: 50%;z-index: -1;}#sk-container-id-5 div.sk-parallel-item {display: flex;flex-direction: column;z-index: 1;position: relative;background-color: white;}#sk-container-id-5 div.sk-parallel-item:first-child::after {align-self: flex-end;width: 50%;}#sk-container-id-5 div.sk-parallel-item:last-child::after {align-self: flex-start;width: 50%;}#sk-container-id-5 div.sk-parallel-item:only-child::after {width: 0;}#sk-container-id-5 div.sk-dashed-wrapped {border: 1px dashed gray;margin: 0 0.4em 0.5em 0.4em;box-sizing: border-box;padding-bottom: 0.4em;background-color: white;}#sk-container-id-5 div.sk-label label {font-family: monospace;font-weight: bold;display: inline-block;line-height: 1.2em;}#sk-container-id-5 div.sk-label-container {text-align: center;}#sk-container-id-5 div.sk-container {/* jupyter's `normalize.less` sets `[hidden] { display: none; }` but bootstrap.min.css set `[hidden] { display: none !important; }` so we also need the `!important` here to be able to override the default hidden behavior on the sphinx rendered scikit-learn.org. See: https://github.com/scikit-learn/scikit-learn/issues/21755 */display: inline-block !important;position: relative;}#sk-container-id-5 div.sk-text-repr-fallback {display: none;}</style><div id=\"sk-container-id-5\" class=\"sk-top-container\"><div class=\"sk-text-repr-fallback\"><pre>SVC(kernel=&#x27;poly&#x27;, random_state=1)</pre><b>In a Jupyter environment, please rerun this cell to show the HTML representation or trust the notebook. <br />On GitHub, the HTML representation is unable to render, please try loading this page with nbviewer.org.</b></div><div class=\"sk-container\" hidden><div class=\"sk-item\"><div class=\"sk-estimator sk-toggleable\"><input class=\"sk-toggleable__control sk-hidden--visually\" id=\"sk-estimator-id-5\" type=\"checkbox\" checked><label for=\"sk-estimator-id-5\" class=\"sk-toggleable__label sk-toggleable__label-arrow\">SVC</label><div class=\"sk-toggleable__content\"><pre>SVC(kernel=&#x27;poly&#x27;, random_state=1)</pre></div></div></div></div></div>"
      ],
      "text/plain": [
       "SVC(kernel='poly', random_state=1)"
      ]
     },
     "execution_count": 83,
     "metadata": {},
     "output_type": "execute_result"
    }
   ],
   "source": [
    "#preparing the model by using svm algo (by using non-linear seperatable data)\n",
    "#it achieve by using kernel function\n",
    "#in polynomial kernel function we increase the dimension of graph from 1d to 2d\n",
    "#so calling the class\n",
    "from sklearn.svm import SVC\n",
    "#creating an object of svc class\n",
    "svc2=SVC(random_state=1,kernel='poly')\n",
    "#calling the function\n",
    "svc2=function(svc2)\n",
    "svc2"
   ]
  },
  {
   "cell_type": "code",
   "execution_count": 84,
   "id": "ec72de9a",
   "metadata": {},
   "outputs": [
    {
     "name": "stdout",
     "output_type": "stream",
     "text": [
      "              precision    recall  f1-score   support\n",
      "\n",
      "           0       0.66      0.92      0.77       585\n",
      "           1       0.72      0.29      0.42       398\n",
      "\n",
      "    accuracy                           0.67       983\n",
      "   macro avg       0.69      0.61      0.59       983\n",
      "weighted avg       0.68      0.67      0.62       983\n",
      "\n",
      "[[540  45]\n",
      " [282 116]]\n"
     ]
    },
    {
     "data": {
      "text/html": [
       "<style>#sk-container-id-6 {color: black;background-color: white;}#sk-container-id-6 pre{padding: 0;}#sk-container-id-6 div.sk-toggleable {background-color: white;}#sk-container-id-6 label.sk-toggleable__label {cursor: pointer;display: block;width: 100%;margin-bottom: 0;padding: 0.3em;box-sizing: border-box;text-align: center;}#sk-container-id-6 label.sk-toggleable__label-arrow:before {content: \"▸\";float: left;margin-right: 0.25em;color: #696969;}#sk-container-id-6 label.sk-toggleable__label-arrow:hover:before {color: black;}#sk-container-id-6 div.sk-estimator:hover label.sk-toggleable__label-arrow:before {color: black;}#sk-container-id-6 div.sk-toggleable__content {max-height: 0;max-width: 0;overflow: hidden;text-align: left;background-color: #f0f8ff;}#sk-container-id-6 div.sk-toggleable__content pre {margin: 0.2em;color: black;border-radius: 0.25em;background-color: #f0f8ff;}#sk-container-id-6 input.sk-toggleable__control:checked~div.sk-toggleable__content {max-height: 200px;max-width: 100%;overflow: auto;}#sk-container-id-6 input.sk-toggleable__control:checked~label.sk-toggleable__label-arrow:before {content: \"▾\";}#sk-container-id-6 div.sk-estimator input.sk-toggleable__control:checked~label.sk-toggleable__label {background-color: #d4ebff;}#sk-container-id-6 div.sk-label input.sk-toggleable__control:checked~label.sk-toggleable__label {background-color: #d4ebff;}#sk-container-id-6 input.sk-hidden--visually {border: 0;clip: rect(1px 1px 1px 1px);clip: rect(1px, 1px, 1px, 1px);height: 1px;margin: -1px;overflow: hidden;padding: 0;position: absolute;width: 1px;}#sk-container-id-6 div.sk-estimator {font-family: monospace;background-color: #f0f8ff;border: 1px dotted black;border-radius: 0.25em;box-sizing: border-box;margin-bottom: 0.5em;}#sk-container-id-6 div.sk-estimator:hover {background-color: #d4ebff;}#sk-container-id-6 div.sk-parallel-item::after {content: \"\";width: 100%;border-bottom: 1px solid gray;flex-grow: 1;}#sk-container-id-6 div.sk-label:hover label.sk-toggleable__label {background-color: #d4ebff;}#sk-container-id-6 div.sk-serial::before {content: \"\";position: absolute;border-left: 1px solid gray;box-sizing: border-box;top: 0;bottom: 0;left: 50%;z-index: 0;}#sk-container-id-6 div.sk-serial {display: flex;flex-direction: column;align-items: center;background-color: white;padding-right: 0.2em;padding-left: 0.2em;position: relative;}#sk-container-id-6 div.sk-item {position: relative;z-index: 1;}#sk-container-id-6 div.sk-parallel {display: flex;align-items: stretch;justify-content: center;background-color: white;position: relative;}#sk-container-id-6 div.sk-item::before, #sk-container-id-6 div.sk-parallel-item::before {content: \"\";position: absolute;border-left: 1px solid gray;box-sizing: border-box;top: 0;bottom: 0;left: 50%;z-index: -1;}#sk-container-id-6 div.sk-parallel-item {display: flex;flex-direction: column;z-index: 1;position: relative;background-color: white;}#sk-container-id-6 div.sk-parallel-item:first-child::after {align-self: flex-end;width: 50%;}#sk-container-id-6 div.sk-parallel-item:last-child::after {align-self: flex-start;width: 50%;}#sk-container-id-6 div.sk-parallel-item:only-child::after {width: 0;}#sk-container-id-6 div.sk-dashed-wrapped {border: 1px dashed gray;margin: 0 0.4em 0.5em 0.4em;box-sizing: border-box;padding-bottom: 0.4em;background-color: white;}#sk-container-id-6 div.sk-label label {font-family: monospace;font-weight: bold;display: inline-block;line-height: 1.2em;}#sk-container-id-6 div.sk-label-container {text-align: center;}#sk-container-id-6 div.sk-container {/* jupyter's `normalize.less` sets `[hidden] { display: none; }` but bootstrap.min.css set `[hidden] { display: none !important; }` so we also need the `!important` here to be able to override the default hidden behavior on the sphinx rendered scikit-learn.org. See: https://github.com/scikit-learn/scikit-learn/issues/21755 */display: inline-block !important;position: relative;}#sk-container-id-6 div.sk-text-repr-fallback {display: none;}</style><div id=\"sk-container-id-6\" class=\"sk-top-container\"><div class=\"sk-text-repr-fallback\"><pre>SVC(random_state=1)</pre><b>In a Jupyter environment, please rerun this cell to show the HTML representation or trust the notebook. <br />On GitHub, the HTML representation is unable to render, please try loading this page with nbviewer.org.</b></div><div class=\"sk-container\" hidden><div class=\"sk-item\"><div class=\"sk-estimator sk-toggleable\"><input class=\"sk-toggleable__control sk-hidden--visually\" id=\"sk-estimator-id-6\" type=\"checkbox\" checked><label for=\"sk-estimator-id-6\" class=\"sk-toggleable__label sk-toggleable__label-arrow\">SVC</label><div class=\"sk-toggleable__content\"><pre>SVC(random_state=1)</pre></div></div></div></div></div>"
      ],
      "text/plain": [
       "SVC(random_state=1)"
      ]
     },
     "execution_count": 84,
     "metadata": {},
     "output_type": "execute_result"
    }
   ],
   "source": [
    "#creating an object of svc class\n",
    "svc3=SVC(random_state=1,kernel='rbf')\n",
    "#calling the function\n",
    "svc3=function(svc3)\n",
    "svc3"
   ]
  },
  {
   "cell_type": "markdown",
   "id": "75820269",
   "metadata": {},
   "source": [
    "conclusion:- for this given dataset radial kernel function of nonlinear seperatable data of svm is suitable"
   ]
  },
  {
   "cell_type": "markdown",
   "id": "84827aaa",
   "metadata": {},
   "source": [
    "# next classification algo that we r refering named as KNN k nearest neighbors algo"
   ]
  },
  {
   "cell_type": "code",
   "execution_count": 87,
   "id": "ac308fa7",
   "metadata": {},
   "outputs": [
    {
     "name": "stdout",
     "output_type": "stream",
     "text": [
      "              precision    recall  f1-score   support\n",
      "\n",
      "           0       0.66      0.76      0.70       585\n",
      "           1       0.54      0.42      0.47       398\n",
      "\n",
      "    accuracy                           0.62       983\n",
      "   macro avg       0.60      0.59      0.59       983\n",
      "weighted avg       0.61      0.62      0.61       983\n",
      "\n",
      "[[442 143]\n",
      " [230 168]]\n"
     ]
    },
    {
     "data": {
      "text/html": [
       "<style>#sk-container-id-9 {color: black;background-color: white;}#sk-container-id-9 pre{padding: 0;}#sk-container-id-9 div.sk-toggleable {background-color: white;}#sk-container-id-9 label.sk-toggleable__label {cursor: pointer;display: block;width: 100%;margin-bottom: 0;padding: 0.3em;box-sizing: border-box;text-align: center;}#sk-container-id-9 label.sk-toggleable__label-arrow:before {content: \"▸\";float: left;margin-right: 0.25em;color: #696969;}#sk-container-id-9 label.sk-toggleable__label-arrow:hover:before {color: black;}#sk-container-id-9 div.sk-estimator:hover label.sk-toggleable__label-arrow:before {color: black;}#sk-container-id-9 div.sk-toggleable__content {max-height: 0;max-width: 0;overflow: hidden;text-align: left;background-color: #f0f8ff;}#sk-container-id-9 div.sk-toggleable__content pre {margin: 0.2em;color: black;border-radius: 0.25em;background-color: #f0f8ff;}#sk-container-id-9 input.sk-toggleable__control:checked~div.sk-toggleable__content {max-height: 200px;max-width: 100%;overflow: auto;}#sk-container-id-9 input.sk-toggleable__control:checked~label.sk-toggleable__label-arrow:before {content: \"▾\";}#sk-container-id-9 div.sk-estimator input.sk-toggleable__control:checked~label.sk-toggleable__label {background-color: #d4ebff;}#sk-container-id-9 div.sk-label input.sk-toggleable__control:checked~label.sk-toggleable__label {background-color: #d4ebff;}#sk-container-id-9 input.sk-hidden--visually {border: 0;clip: rect(1px 1px 1px 1px);clip: rect(1px, 1px, 1px, 1px);height: 1px;margin: -1px;overflow: hidden;padding: 0;position: absolute;width: 1px;}#sk-container-id-9 div.sk-estimator {font-family: monospace;background-color: #f0f8ff;border: 1px dotted black;border-radius: 0.25em;box-sizing: border-box;margin-bottom: 0.5em;}#sk-container-id-9 div.sk-estimator:hover {background-color: #d4ebff;}#sk-container-id-9 div.sk-parallel-item::after {content: \"\";width: 100%;border-bottom: 1px solid gray;flex-grow: 1;}#sk-container-id-9 div.sk-label:hover label.sk-toggleable__label {background-color: #d4ebff;}#sk-container-id-9 div.sk-serial::before {content: \"\";position: absolute;border-left: 1px solid gray;box-sizing: border-box;top: 0;bottom: 0;left: 50%;z-index: 0;}#sk-container-id-9 div.sk-serial {display: flex;flex-direction: column;align-items: center;background-color: white;padding-right: 0.2em;padding-left: 0.2em;position: relative;}#sk-container-id-9 div.sk-item {position: relative;z-index: 1;}#sk-container-id-9 div.sk-parallel {display: flex;align-items: stretch;justify-content: center;background-color: white;position: relative;}#sk-container-id-9 div.sk-item::before, #sk-container-id-9 div.sk-parallel-item::before {content: \"\";position: absolute;border-left: 1px solid gray;box-sizing: border-box;top: 0;bottom: 0;left: 50%;z-index: -1;}#sk-container-id-9 div.sk-parallel-item {display: flex;flex-direction: column;z-index: 1;position: relative;background-color: white;}#sk-container-id-9 div.sk-parallel-item:first-child::after {align-self: flex-end;width: 50%;}#sk-container-id-9 div.sk-parallel-item:last-child::after {align-self: flex-start;width: 50%;}#sk-container-id-9 div.sk-parallel-item:only-child::after {width: 0;}#sk-container-id-9 div.sk-dashed-wrapped {border: 1px dashed gray;margin: 0 0.4em 0.5em 0.4em;box-sizing: border-box;padding-bottom: 0.4em;background-color: white;}#sk-container-id-9 div.sk-label label {font-family: monospace;font-weight: bold;display: inline-block;line-height: 1.2em;}#sk-container-id-9 div.sk-label-container {text-align: center;}#sk-container-id-9 div.sk-container {/* jupyter's `normalize.less` sets `[hidden] { display: none; }` but bootstrap.min.css set `[hidden] { display: none !important; }` so we also need the `!important` here to be able to override the default hidden behavior on the sphinx rendered scikit-learn.org. See: https://github.com/scikit-learn/scikit-learn/issues/21755 */display: inline-block !important;position: relative;}#sk-container-id-9 div.sk-text-repr-fallback {display: none;}</style><div id=\"sk-container-id-9\" class=\"sk-top-container\"><div class=\"sk-text-repr-fallback\"><pre>KNeighborsClassifier()</pre><b>In a Jupyter environment, please rerun this cell to show the HTML representation or trust the notebook. <br />On GitHub, the HTML representation is unable to render, please try loading this page with nbviewer.org.</b></div><div class=\"sk-container\" hidden><div class=\"sk-item\"><div class=\"sk-estimator sk-toggleable\"><input class=\"sk-toggleable__control sk-hidden--visually\" id=\"sk-estimator-id-9\" type=\"checkbox\" checked><label for=\"sk-estimator-id-9\" class=\"sk-toggleable__label sk-toggleable__label-arrow\">KNeighborsClassifier</label><div class=\"sk-toggleable__content\"><pre>KNeighborsClassifier()</pre></div></div></div></div></div>"
      ],
      "text/plain": [
       "KNeighborsClassifier()"
      ]
     },
     "execution_count": 87,
     "metadata": {},
     "output_type": "execute_result"
    }
   ],
   "source": [
    "#preparing the model by using knn algo\n",
    "#so calling the class\n",
    "from sklearn.neighbors import KNeighborsClassifier\n",
    "#creating an object of KNeighborsClassifier class\n",
    "knn=KNeighborsClassifier(n_neighbors=5,p=2)\n",
    "#calling the function\n",
    "knn=function(knn)\n",
    "knn"
   ]
  },
  {
   "cell_type": "markdown",
   "id": "3da59d60",
   "metadata": {},
   "source": [
    "conclusion:- for this given datset knn algo is also best "
   ]
  },
  {
   "cell_type": "markdown",
   "id": "cb660155",
   "metadata": {},
   "source": [
    "# next classification algo that we r refering named gaussiannaive_bayes algo"
   ]
  },
  {
   "cell_type": "code",
   "execution_count": 88,
   "id": "8f969098",
   "metadata": {},
   "outputs": [],
   "source": [
    "#working on small data not suitable of large amount of data\n",
    "#working on mechanism of condition probabaility\n",
    "#p(a/b)=means finding prob of a in given prob of b==>p(b/a)*p(a)/p(b)\n",
    "#if in given dataset any object/categorical/discrete  dataype column value present \n",
    "#so we cannot use gaussian naiv_bayes algo in it\n",
    "#like this dataset"
   ]
  },
  {
   "cell_type": "code",
   "execution_count": 89,
   "id": "c73f4157",
   "metadata": {},
   "outputs": [
    {
     "name": "stdout",
     "output_type": "stream",
     "text": [
      "              precision    recall  f1-score   support\n",
      "\n",
      "           0       0.63      0.88      0.73       585\n",
      "           1       0.57      0.24      0.33       398\n",
      "\n",
      "    accuracy                           0.62       983\n",
      "   macro avg       0.60      0.56      0.53       983\n",
      "weighted avg       0.61      0.62      0.57       983\n",
      "\n",
      "[[515  70]\n",
      " [304  94]]\n"
     ]
    }
   ],
   "source": [
    "#preparing the model by calling the gaussian naive bayes algo\n",
    "from sklearn.naive_bayes import GaussianNB\n",
    "#creating an object of GaussianNB\n",
    "gnb=GaussianNB()\n",
    "#calling the function\n",
    "gnb=function(gnb)"
   ]
  },
  {
   "cell_type": "markdown",
   "id": "c1fdae2f",
   "metadata": {},
   "source": [
    "conclusion:- gaussiannb algo is also suitable for this given dataset"
   ]
  },
  {
   "cell_type": "code",
   "execution_count": null,
   "id": "c6a9033f",
   "metadata": {},
   "outputs": [],
   "source": []
  }
 ],
 "metadata": {
  "kernelspec": {
   "display_name": "Python 3 (ipykernel)",
   "language": "python",
   "name": "python3"
  },
  "language_info": {
   "codemirror_mode": {
    "name": "ipython",
    "version": 3
   },
   "file_extension": ".py",
   "mimetype": "text/x-python",
   "name": "python",
   "nbconvert_exporter": "python",
   "pygments_lexer": "ipython3",
   "version": "3.9.12"
  }
 },
 "nbformat": 4,
 "nbformat_minor": 5
}
